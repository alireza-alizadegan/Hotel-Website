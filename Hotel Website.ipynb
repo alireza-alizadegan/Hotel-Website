{
 "cells": [
  {
   "cell_type": "markdown",
   "metadata": {
    "id": "efNrswuqgGYV"
   },
   "source": [
    "<img src='Cover Photo/Click.jpg' style='height:200px'/>"
   ]
  },
  {
   "cell_type": "markdown",
   "metadata": {
    "id": "VF8aexvBgGYs",
    "toc": true
   },
   "source": [
    "<h1>Table of Contents<span class=\"tocSkip\"></span></h1>\n",
    "<div class=\"toc\"><ul class=\"toc-item\"><li><span><a href=\"#Data-Cleaning\" data-toc-modified-id=\"Data-Cleaning-1\"><span class=\"toc-item-num\">1&nbsp;&nbsp;</span>Data Cleaning</a></span><ul class=\"toc-item\"><li><span><a href=\"#Duplicate-Observations\" data-toc-modified-id=\"Duplicate-Observations-1.1\"><span class=\"toc-item-num\">1.1&nbsp;&nbsp;</span>Duplicate Observations</a></span></li><li><span><a href=\"#Missing-Values\" data-toc-modified-id=\"Missing-Values-1.2\"><span class=\"toc-item-num\">1.2&nbsp;&nbsp;</span>Missing Values</a></span></li><li><span><a href=\"#Univariate-Outlier\" data-toc-modified-id=\"Univariate-Outlier-1.3\"><span class=\"toc-item-num\">1.3&nbsp;&nbsp;</span>Univariate Outlier</a></span></li></ul></li><li><span><a href=\"#Exploratory-Analysis\" data-toc-modified-id=\"Exploratory-Analysis-2\"><span class=\"toc-item-num\">2&nbsp;&nbsp;</span>Exploratory Analysis</a></span><ul class=\"toc-item\"><li><span><a href=\"#Unique-Values\" data-toc-modified-id=\"Unique-Values-2.1\"><span class=\"toc-item-num\">2.1&nbsp;&nbsp;</span>Unique Values</a></span></li><li><span><a href=\"#Correlation-Analysis\" data-toc-modified-id=\"Correlation-Analysis-2.2\"><span class=\"toc-item-num\">2.2&nbsp;&nbsp;</span>Correlation Analysis</a></span></li><li><span><a href=\"#Multivariate-Outliers\" data-toc-modified-id=\"Multivariate-Outliers-2.3\"><span class=\"toc-item-num\">2.3&nbsp;&nbsp;</span>Multivariate Outliers</a></span></li></ul></li><li><span><a href=\"#Feature-Engineering\" data-toc-modified-id=\"Feature-Engineering-3\"><span class=\"toc-item-num\">3&nbsp;&nbsp;</span>Feature Engineering</a></span><ul class=\"toc-item\"><li><span><a href=\"#Feature-Transformation\" data-toc-modified-id=\"Feature-Transformation-3.1\"><span class=\"toc-item-num\">3.1&nbsp;&nbsp;</span>Feature Transformation</a></span></li><li><span><a href=\"#Standard-Scaling\" data-toc-modified-id=\"Standard-Scaling-3.2\"><span class=\"toc-item-num\">3.2&nbsp;&nbsp;</span>Standard Scaling</a></span></li></ul></li><li><span><a href=\"#Descriptive-Analytics\" data-toc-modified-id=\"Descriptive-Analytics-4\"><span class=\"toc-item-num\">4&nbsp;&nbsp;</span>Descriptive Analytics</a></span><ul class=\"toc-item\"><li><span><a href=\"#Statistical-Analysis\" data-toc-modified-id=\"Statistical-Analysis-4.1\"><span class=\"toc-item-num\">4.1&nbsp;&nbsp;</span>Statistical Analysis</a></span></li><li><span><a href=\"#Feature-Selection\" data-toc-modified-id=\"Feature-Selection-4.2\"><span class=\"toc-item-num\">4.2&nbsp;&nbsp;</span>Feature Selection</a></span></li></ul></li><li><span><a href=\"#Predictive-Analytics\" data-toc-modified-id=\"Predictive-Analytics-5\"><span class=\"toc-item-num\">5&nbsp;&nbsp;</span>Predictive Analytics</a></span><ul class=\"toc-item\"><li><span><a href=\"#Model-Selection\" data-toc-modified-id=\"Model-Selection-5.1\"><span class=\"toc-item-num\">5.1&nbsp;&nbsp;</span>Model Selection</a></span></li><li><span><a href=\"#Grid-Search\" data-toc-modified-id=\"Grid-Search-5.2\"><span class=\"toc-item-num\">5.2&nbsp;&nbsp;</span>Grid Search</a></span></li><li><span><a href=\"#Model-Predictions\" data-toc-modified-id=\"Model-Predictions-5.3\"><span class=\"toc-item-num\">5.3&nbsp;&nbsp;</span>Model Predictions</a></span></li></ul></li><li><span><a href=\"#Conclusion\" data-toc-modified-id=\"Conclusion-6\"><span class=\"toc-item-num\">6&nbsp;&nbsp;</span>Conclusion</a></span></li></ul></div>"
   ]
  },
  {
   "cell_type": "markdown",
   "metadata": {},
   "source": [
    "This project presents statistical insights obtained from a hotel website data as well as application of machine learning and deep learning techniques to accurately predict number clicks based on the hotel factors (e.g., stars, reviews, etc.). "
   ]
  },
  {
   "cell_type": "markdown",
   "metadata": {},
   "source": [
    "Due to large volume of data and extensive computations in this project (e.g., grid search, clustering, and nearest neighbors), the computation was carried out with TPUs on google colab as follows:"
   ]
  },
  {
   "cell_type": "code",
   "execution_count": 1,
   "metadata": {
    "colab": {
     "base_uri": "https://localhost:8080/"
    },
    "id": "PucMOPrrrXl4",
    "outputId": "f7fcdf9b-8723-4931-9caf-3632f23244e8"
   },
   "outputs": [
    {
     "name": "stdout",
     "output_type": "stream",
     "text": [
      "Mounted at /content/drive\n"
     ]
    }
   ],
   "source": [
    "from google.colab import drive\n",
    "drive.mount('/content/drive')"
   ]
  },
  {
   "cell_type": "code",
   "execution_count": 5,
   "metadata": {
    "id": "txFzhY7bgGY7",
    "scrolled": true
   },
   "outputs": [],
   "source": [
    "# frequently used libraries\n",
    "import numpy as np\n",
    "import pandas as pd\n",
    "import matplotlib.pyplot as plt\n",
    "#import seaborn as sns\n",
    "\n",
    "# preprocessing libraries\n",
    "from sklearn.preprocessing import MinMaxScaler\n",
    "from sklearn.preprocessing import StandardScaler\n",
    "from sklearn.externals.joblib import dump\n",
    "from sklearn.decomposition import PCA\n",
    "from sklearn.cluster import KMeans\n",
    "from sklearn.manifold import TSNE\n",
    "\n",
    "# statistical analysis libraries\n",
    "import statsmodels.api as sm\n",
    "from statsmodels.stats.outliers_influence import variance_inflation_factor\n",
    "\n",
    "# machine learning libraries\n",
    "from sklearn.model_selection import train_test_split\n",
    "from sklearn.neighbors import KNeighborsRegressor\n",
    "from sklearn.linear_model import SGDRegressor\n",
    "from sklearn.tree import DecisionTreeRegressor\n",
    "from sklearn.svm import SVR\n",
    "from sklearn.ensemble import RandomForestRegressor\n",
    "from xgboost import XGBRegressor\n",
    "from sklearn.neural_network import MLPRegressor\n",
    "from sklearn.pipeline import Pipeline\n",
    "from sklearn.model_selection import GridSearchCV\n",
    "\n",
    "import warnings\n",
    "warnings.filterwarnings('ignore')"
   ]
  },
  {
   "cell_type": "code",
   "execution_count": 6,
   "metadata": {
    "id": "kLHoxt0vgGZT"
   },
   "outputs": [],
   "source": [
    "from google.colab import drive\n",
    "drive.mount('/content/drive')# deep learning libraries \n",
    "from tensorflow.keras.layers import Dense, Dropout, BatchNormalization\n",
    "from tensorflow.keras.models import Sequential\n",
    "from tensorflow.keras.optimizers import SGD\n",
    "from tensorflow.keras.wrappers.scikit_learn import KerasClassifier\n",
    "from tensorflow.keras.utils import plot_model"
   ]
  },
  {
   "cell_type": "markdown",
   "metadata": {
    "id": "JogopvBEgGZh"
   },
   "source": [
    "# Data Cleaning"
   ]
  },
  {
   "cell_type": "code",
   "execution_count": 7,
   "metadata": {
    "colab": {
     "base_uri": "https://localhost:8080/"
    },
    "id": "i4LWuI_5gGZj",
    "outputId": "01d99140-535d-4aab-8f6f-f98b5dee0385",
    "scrolled": true
   },
   "outputs": [
    {
     "name": "stdout",
     "output_type": "stream",
     "text": [
      "<class 'pandas.core.frame.DataFrame'>\n",
      "RangeIndex: 396487 entries, 0 to 396486\n",
      "Data columns (total 12 columns):\n",
      " #   Column              Non-Null Count   Dtype  \n",
      "---  ------              --------------   -----  \n",
      " 0   hotel_id            396487 non-null  float64\n",
      " 1   city_id             395979 non-null  float64\n",
      " 2   content_score       395979 non-null  float64\n",
      " 3   n_images            395978 non-null  float64\n",
      " 4   distance_to_center  395958 non-null  float64\n",
      " 5   avg_rating          286089 non-null  float64\n",
      " 6   stars               395925 non-null  float64\n",
      " 7   n_reviews           395958 non-null  float64\n",
      " 8   avg_rank            396487 non-null  float64\n",
      " 9   avg_price           396317 non-null  float64\n",
      " 10  avg_saving_percent  396317 non-null  float64\n",
      " 11  n_clicks            396487 non-null  int64  \n",
      "dtypes: float64(11), int64(1)\n",
      "memory usage: 36.3 MB\n"
     ]
    }
   ],
   "source": [
    "# Read CSV \n",
    "hotel_df = pd.read_csv('/content/drive/My Drive/Audicia/train_set.csv')\n",
    "hotel_df.info()"
   ]
  },
  {
   "cell_type": "markdown",
   "metadata": {
    "id": "5DxEnNxGgGaH"
   },
   "source": [
    "## Duplicate Observations"
   ]
  },
  {
   "cell_type": "code",
   "execution_count": 5,
   "metadata": {},
   "outputs": [
    {
     "data": {
      "text/plain": [
       "396487"
      ]
     },
     "execution_count": 5,
     "metadata": {},
     "output_type": "execute_result"
    }
   ],
   "source": [
    "hotel_df.drop_duplicates(inplace=True)\n",
    "hotel_df.shape[0]"
   ]
  },
  {
   "cell_type": "markdown",
   "metadata": {},
   "source": [
    "The number of data points after deleting the duplicates equals before, so there were not duplicates in the dataset."
   ]
  },
  {
   "cell_type": "markdown",
   "metadata": {
    "id": "GeerWDmFgGaa"
   },
   "source": [
    "## Missing Values"
   ]
  },
  {
   "cell_type": "code",
   "execution_count": 9,
   "metadata": {
    "colab": {
     "base_uri": "https://localhost:8080/"
    },
    "id": "GjpFIwc1gGaj",
    "outputId": "747e4b55-d118-4cac-9f2b-8e635242f090"
   },
   "outputs": [
    {
     "data": {
      "text/plain": [
       "hotel_id               0.000000\n",
       "city_id                0.128125\n",
       "content_score          0.128125\n",
       "n_images               0.128377\n",
       "distance_to_center     0.133422\n",
       "avg_rating            27.844040\n",
       "stars                  0.141745\n",
       "n_reviews              0.133422\n",
       "avg_rank               0.000000\n",
       "avg_price              0.042877\n",
       "avg_saving_percent     0.042877\n",
       "n_clicks               0.000000\n",
       "dtype: float64"
      ]
     },
     "execution_count": 9,
     "metadata": {
      "tags": []
     },
     "output_type": "execute_result"
    }
   ],
   "source": [
    "# Percent missing value\n",
    "hotel_df.isna().mean()*100"
   ]
  },
  {
   "cell_type": "markdown",
   "metadata": {
    "id": "zzXWCnAmgGa2"
   },
   "source": [
    "Except for `avg_rating` other columns have less than three percent missing values, so the approach for dealing with them does not make much difference. In this project, they were replaced by median value of the corresponding column as follows:"
   ]
  },
  {
   "cell_type": "code",
   "execution_count": 10,
   "metadata": {
    "colab": {
     "base_uri": "https://localhost:8080/"
    },
    "id": "wT8Lh7M2gGa4",
    "outputId": "c39d381d-d57e-49b7-fe11-6a76ef883eaa",
    "scrolled": true
   },
   "outputs": [
    {
     "name": "stdout",
     "output_type": "stream",
     "text": [
      "<class 'pandas.core.frame.DataFrame'>\n",
      "Int64Index: 396487 entries, 0 to 396486\n",
      "Data columns (total 12 columns):\n",
      " #   Column              Non-Null Count   Dtype  \n",
      "---  ------              --------------   -----  \n",
      " 0   hotel_id            396487 non-null  float64\n",
      " 1   city_id             396487 non-null  float64\n",
      " 2   content_score       396487 non-null  float64\n",
      " 3   n_images            396487 non-null  float64\n",
      " 4   distance_to_center  396487 non-null  float64\n",
      " 5   avg_rating          286089 non-null  float64\n",
      " 6   stars               396487 non-null  float64\n",
      " 7   n_reviews           396487 non-null  float64\n",
      " 8   avg_rank            396487 non-null  float64\n",
      " 9   avg_price           396487 non-null  float64\n",
      " 10  avg_saving_percent  396487 non-null  float64\n",
      " 11  n_clicks            396487 non-null  int64  \n",
      "dtypes: float64(11), int64(1)\n",
      "memory usage: 39.3 MB\n"
     ]
    }
   ],
   "source": [
    "# fill all columns except avg_rating with median\n",
    "except_rating_list = [ col for col in hotel_df.columns if col != 'avg_rating' ]\n",
    "fill_df = hotel_df.copy()\n",
    "fill_df[except_rating_list] = hotel_df[except_rating_list].fillna(hotel_df[except_rating_list].median())\n",
    "fill_df.info()"
   ]
  },
  {
   "cell_type": "markdown",
   "metadata": {
    "id": "j24MfiAggGbI"
   },
   "source": [
    "Missing values `avg_rating` is assumed not to be completely at random because the column distribution shows that most of the rating are accumulated on high values and therefore it is likely that low-rating hotels have not reported, however since the rating value itself is missing all other features are used in regression to impute values for this column:"
   ]
  },
  {
   "cell_type": "code",
   "execution_count": 11,
   "metadata": {
    "colab": {
     "base_uri": "https://localhost:8080/"
    },
    "id": "184YMEOjgGbL",
    "outputId": "06f56000-d32c-48da-cb2e-aaac51d3468d",
    "scrolled": true
   },
   "outputs": [
    {
     "name": "stdout",
     "output_type": "stream",
     "text": [
      "<class 'pandas.core.frame.DataFrame'>\n",
      "Int64Index: 286089 entries, 0 to 396472\n",
      "Data columns (total 12 columns):\n",
      " #   Column              Non-Null Count   Dtype  \n",
      "---  ------              --------------   -----  \n",
      " 0   hotel_id            286089 non-null  float64\n",
      " 1   city_id             286089 non-null  float64\n",
      " 2   content_score       286089 non-null  float64\n",
      " 3   n_images            286089 non-null  float64\n",
      " 4   distance_to_center  286089 non-null  float64\n",
      " 5   avg_rating          286089 non-null  float64\n",
      " 6   stars               286089 non-null  float64\n",
      " 7   n_reviews           286089 non-null  float64\n",
      " 8   avg_rank            286089 non-null  float64\n",
      " 9   avg_price           286089 non-null  float64\n",
      " 10  avg_saving_percent  286089 non-null  float64\n",
      " 11  n_clicks            286089 non-null  int64  \n",
      "dtypes: float64(11), int64(1)\n",
      "memory usage: 28.4 MB\n"
     ]
    }
   ],
   "source": [
    "# filter rows with available values for training\n",
    "rating_train_df = fill_df[~fill_df['avg_rating'].isna()]\n",
    "rating_train_df.info()"
   ]
  },
  {
   "cell_type": "code",
   "execution_count": 12,
   "metadata": {
    "colab": {
     "base_uri": "https://localhost:8080/"
    },
    "id": "kGBcw_XigGbp",
    "outputId": "ed5d59ec-9934-48f2-d7f2-6558bc9f2adf",
    "scrolled": true
   },
   "outputs": [
    {
     "name": "stdout",
     "output_type": "stream",
     "text": [
      "<class 'pandas.core.frame.DataFrame'>\n",
      "Int64Index: 110398 entries, 9 to 396486\n",
      "Data columns (total 12 columns):\n",
      " #   Column              Non-Null Count   Dtype  \n",
      "---  ------              --------------   -----  \n",
      " 0   hotel_id            110398 non-null  float64\n",
      " 1   city_id             110398 non-null  float64\n",
      " 2   content_score       110398 non-null  float64\n",
      " 3   n_images            110398 non-null  float64\n",
      " 4   distance_to_center  110398 non-null  float64\n",
      " 5   avg_rating          0 non-null       float64\n",
      " 6   stars               110398 non-null  float64\n",
      " 7   n_reviews           110398 non-null  float64\n",
      " 8   avg_rank            110398 non-null  float64\n",
      " 9   avg_price           110398 non-null  float64\n",
      " 10  avg_saving_percent  110398 non-null  float64\n",
      " 11  n_clicks            110398 non-null  int64  \n",
      "dtypes: float64(11), int64(1)\n",
      "memory usage: 10.9 MB\n"
     ]
    }
   ],
   "source": [
    "# filter rows with missing values for testing\n",
    "rating_test_df = fill_df[fill_df['avg_rating'].isna()]\n",
    "rating_test_df.info()"
   ]
  },
  {
   "cell_type": "code",
   "execution_count": 13,
   "metadata": {
    "id": "POhw7zdVgGb5"
   },
   "outputs": [],
   "source": [
    "# seperate target from features\n",
    "X = rating_train_df[[ col for col in fill_df.columns if col != 'avg_rating' ]]\n",
    "y = rating_train_df['avg_rating']"
   ]
  },
  {
   "cell_type": "code",
   "execution_count": 14,
   "metadata": {
    "id": "SOdFqyiIgGcL"
   },
   "outputs": [],
   "source": [
    "# split train and test sets from original dataset \n",
    "X_train, X_test, y_train, y_test = train_test_split(X, y, test_size = 0.25)"
   ]
  },
  {
   "cell_type": "code",
   "execution_count": 15,
   "metadata": {
    "id": "IoTeJWT3gGca"
   },
   "outputs": [],
   "source": [
    "scaler = StandardScaler()\n",
    "X_train = scaler.fit_transform(X_train)\n",
    "X_test = scaler.transform(X_test)"
   ]
  },
  {
   "cell_type": "code",
   "execution_count": 16,
   "metadata": {
    "colab": {
     "base_uri": "https://localhost:8080/"
    },
    "id": "LBJHM41fgGcw",
    "outputId": "c78125f1-dd7f-4b25-e8e7-eba8536ff19b"
   },
   "outputs": [
    {
     "name": "stdout",
     "output_type": "stream",
     "text": [
      "0.21299043545260865\n",
      "0.2110679564287353\n"
     ]
    }
   ],
   "source": [
    "# Decision Tree Regressor\n",
    "dt = DecisionTreeRegressor(max_depth=5)\n",
    "dt.fit(X_train, y_train)\n",
    "print(dt.score(X_train, y_train))\n",
    "print(dt.score(X_test, y_test))"
   ]
  },
  {
   "cell_type": "code",
   "execution_count": 17,
   "metadata": {
    "colab": {
     "base_uri": "https://localhost:8080/",
     "height": 195
    },
    "id": "Rwo_9fefgGdH",
    "outputId": "31f338b8-1260-40ae-a089-d1188c52c217"
   },
   "outputs": [
    {
     "data": {
      "text/html": [
       "<div>\n",
       "<style scoped>\n",
       "    .dataframe tbody tr th:only-of-type {\n",
       "        vertical-align: middle;\n",
       "    }\n",
       "\n",
       "    .dataframe tbody tr th {\n",
       "        vertical-align: top;\n",
       "    }\n",
       "\n",
       "    .dataframe thead th {\n",
       "        text-align: right;\n",
       "    }\n",
       "</style>\n",
       "<table border=\"1\" class=\"dataframe\">\n",
       "  <thead>\n",
       "    <tr style=\"text-align: right;\">\n",
       "      <th></th>\n",
       "      <th>hotel_id</th>\n",
       "      <th>city_id</th>\n",
       "      <th>content_score</th>\n",
       "      <th>n_images</th>\n",
       "      <th>distance_to_center</th>\n",
       "      <th>stars</th>\n",
       "      <th>n_reviews</th>\n",
       "      <th>avg_rank</th>\n",
       "      <th>avg_price</th>\n",
       "      <th>avg_saving_percent</th>\n",
       "      <th>n_clicks</th>\n",
       "    </tr>\n",
       "  </thead>\n",
       "  <tbody>\n",
       "    <tr>\n",
       "      <th>9</th>\n",
       "      <td>9.902959e+10</td>\n",
       "      <td>208612.0</td>\n",
       "      <td>48.0</td>\n",
       "      <td>1.0</td>\n",
       "      <td>1795.0</td>\n",
       "      <td>0.0</td>\n",
       "      <td>0.0</td>\n",
       "      <td>19.0</td>\n",
       "      <td>21.38</td>\n",
       "      <td>0.0</td>\n",
       "      <td>0</td>\n",
       "    </tr>\n",
       "    <tr>\n",
       "      <th>26</th>\n",
       "      <td>1.004976e+11</td>\n",
       "      <td>54398.0</td>\n",
       "      <td>52.0</td>\n",
       "      <td>1.0</td>\n",
       "      <td>1013.0</td>\n",
       "      <td>0.0</td>\n",
       "      <td>0.0</td>\n",
       "      <td>20.5</td>\n",
       "      <td>56.00</td>\n",
       "      <td>0.0</td>\n",
       "      <td>0</td>\n",
       "    </tr>\n",
       "    <tr>\n",
       "      <th>74</th>\n",
       "      <td>1.115944e+11</td>\n",
       "      <td>61992.0</td>\n",
       "      <td>45.0</td>\n",
       "      <td>0.0</td>\n",
       "      <td>144.0</td>\n",
       "      <td>0.0</td>\n",
       "      <td>0.0</td>\n",
       "      <td>19.0</td>\n",
       "      <td>82.26</td>\n",
       "      <td>0.0</td>\n",
       "      <td>0</td>\n",
       "    </tr>\n",
       "    <tr>\n",
       "      <th>81</th>\n",
       "      <td>1.181972e+11</td>\n",
       "      <td>56480.0</td>\n",
       "      <td>49.0</td>\n",
       "      <td>0.0</td>\n",
       "      <td>10417.0</td>\n",
       "      <td>0.0</td>\n",
       "      <td>0.0</td>\n",
       "      <td>10.5</td>\n",
       "      <td>175.80</td>\n",
       "      <td>0.0</td>\n",
       "      <td>0</td>\n",
       "    </tr>\n",
       "    <tr>\n",
       "      <th>93</th>\n",
       "      <td>1.191401e+11</td>\n",
       "      <td>27532.0</td>\n",
       "      <td>46.0</td>\n",
       "      <td>0.0</td>\n",
       "      <td>1321.0</td>\n",
       "      <td>0.0</td>\n",
       "      <td>0.0</td>\n",
       "      <td>13.0</td>\n",
       "      <td>60.83</td>\n",
       "      <td>0.0</td>\n",
       "      <td>0</td>\n",
       "    </tr>\n",
       "  </tbody>\n",
       "</table>\n",
       "</div>"
      ],
      "text/plain": [
       "        hotel_id   city_id  ...  avg_saving_percent  n_clicks\n",
       "9   9.902959e+10  208612.0  ...                 0.0         0\n",
       "26  1.004976e+11   54398.0  ...                 0.0         0\n",
       "74  1.115944e+11   61992.0  ...                 0.0         0\n",
       "81  1.181972e+11   56480.0  ...                 0.0         0\n",
       "93  1.191401e+11   27532.0  ...                 0.0         0\n",
       "\n",
       "[5 rows x 11 columns]"
      ]
     },
     "execution_count": 17,
     "metadata": {
      "tags": []
     },
     "output_type": "execute_result"
    }
   ],
   "source": [
    "# seperate target from features\n",
    "X = rating_test_df[[ col for col in fill_df.columns if col != 'avg_rating' ]]\n",
    "X.head()"
   ]
  },
  {
   "cell_type": "code",
   "execution_count": 18,
   "metadata": {
    "id": "h6IFdFm4gGde"
   },
   "outputs": [],
   "source": [
    "scaler = StandardScaler()\n",
    "X = scaler.fit_transform(X)"
   ]
  },
  {
   "cell_type": "code",
   "execution_count": 19,
   "metadata": {
    "colab": {
     "base_uri": "https://localhost:8080/",
     "height": 195
    },
    "id": "UD9GvZgigGd5",
    "outputId": "e3e10cdf-949c-4e37-8202-3c33ce7f9707"
   },
   "outputs": [
    {
     "data": {
      "text/html": [
       "<div>\n",
       "<style scoped>\n",
       "    .dataframe tbody tr th:only-of-type {\n",
       "        vertical-align: middle;\n",
       "    }\n",
       "\n",
       "    .dataframe tbody tr th {\n",
       "        vertical-align: top;\n",
       "    }\n",
       "\n",
       "    .dataframe thead th {\n",
       "        text-align: right;\n",
       "    }\n",
       "</style>\n",
       "<table border=\"1\" class=\"dataframe\">\n",
       "  <thead>\n",
       "    <tr style=\"text-align: right;\">\n",
       "      <th></th>\n",
       "      <th>imputation</th>\n",
       "    </tr>\n",
       "  </thead>\n",
       "  <tbody>\n",
       "    <tr>\n",
       "      <th>9</th>\n",
       "      <td>75.684395</td>\n",
       "    </tr>\n",
       "    <tr>\n",
       "      <th>26</th>\n",
       "      <td>75.438351</td>\n",
       "    </tr>\n",
       "    <tr>\n",
       "      <th>74</th>\n",
       "      <td>75.438351</td>\n",
       "    </tr>\n",
       "    <tr>\n",
       "      <th>81</th>\n",
       "      <td>80.394163</td>\n",
       "    </tr>\n",
       "    <tr>\n",
       "      <th>93</th>\n",
       "      <td>75.438351</td>\n",
       "    </tr>\n",
       "  </tbody>\n",
       "</table>\n",
       "</div>"
      ],
      "text/plain": [
       "    imputation\n",
       "9    75.684395\n",
       "26   75.438351\n",
       "74   75.438351\n",
       "81   80.394163\n",
       "93   75.438351"
      ]
     },
     "execution_count": 19,
     "metadata": {
      "tags": []
     },
     "output_type": "execute_result"
    }
   ],
   "source": [
    "# dataframe of predictions with same indicies as missing values\n",
    "rating_array = dt.predict(X)\n",
    "rating_df = pd.DataFrame(rating_array, index=rating_test_df.index, columns=['imputation'])\n",
    "rating_df.head()"
   ]
  },
  {
   "cell_type": "code",
   "execution_count": 20,
   "metadata": {
    "colab": {
     "base_uri": "https://localhost:8080/",
     "height": 402
    },
    "id": "Mvin0CAHgGeI",
    "outputId": "d16564ea-4f00-400a-a093-86d69a9e8a2a"
   },
   "outputs": [
    {
     "data": {
      "text/html": [
       "<div>\n",
       "<style scoped>\n",
       "    .dataframe tbody tr th:only-of-type {\n",
       "        vertical-align: middle;\n",
       "    }\n",
       "\n",
       "    .dataframe tbody tr th {\n",
       "        vertical-align: top;\n",
       "    }\n",
       "\n",
       "    .dataframe thead th {\n",
       "        text-align: right;\n",
       "    }\n",
       "</style>\n",
       "<table border=\"1\" class=\"dataframe\">\n",
       "  <thead>\n",
       "    <tr style=\"text-align: right;\">\n",
       "      <th></th>\n",
       "      <th>imputation</th>\n",
       "    </tr>\n",
       "  </thead>\n",
       "  <tbody>\n",
       "    <tr>\n",
       "      <th>9</th>\n",
       "      <td>75.684395</td>\n",
       "    </tr>\n",
       "    <tr>\n",
       "      <th>26</th>\n",
       "      <td>75.438351</td>\n",
       "    </tr>\n",
       "    <tr>\n",
       "      <th>74</th>\n",
       "      <td>75.438351</td>\n",
       "    </tr>\n",
       "    <tr>\n",
       "      <th>81</th>\n",
       "      <td>80.394163</td>\n",
       "    </tr>\n",
       "    <tr>\n",
       "      <th>93</th>\n",
       "      <td>75.438351</td>\n",
       "    </tr>\n",
       "    <tr>\n",
       "      <th>...</th>\n",
       "      <td>...</td>\n",
       "    </tr>\n",
       "    <tr>\n",
       "      <th>396482</th>\n",
       "      <td>75.438351</td>\n",
       "    </tr>\n",
       "    <tr>\n",
       "      <th>396483</th>\n",
       "      <td>75.684395</td>\n",
       "    </tr>\n",
       "    <tr>\n",
       "      <th>396484</th>\n",
       "      <td>75.684395</td>\n",
       "    </tr>\n",
       "    <tr>\n",
       "      <th>396485</th>\n",
       "      <td>75.438351</td>\n",
       "    </tr>\n",
       "    <tr>\n",
       "      <th>396486</th>\n",
       "      <td>75.438351</td>\n",
       "    </tr>\n",
       "  </tbody>\n",
       "</table>\n",
       "<p>110398 rows × 1 columns</p>\n",
       "</div>"
      ],
      "text/plain": [
       "        imputation\n",
       "9        75.684395\n",
       "26       75.438351\n",
       "74       75.438351\n",
       "81       80.394163\n",
       "93       75.438351\n",
       "...            ...\n",
       "396482   75.438351\n",
       "396483   75.684395\n",
       "396484   75.684395\n",
       "396485   75.438351\n",
       "396486   75.438351\n",
       "\n",
       "[110398 rows x 1 columns]"
      ]
     },
     "execution_count": 20,
     "metadata": {
      "tags": []
     },
     "output_type": "execute_result"
    }
   ],
   "source": [
    "rating_df"
   ]
  },
  {
   "cell_type": "code",
   "execution_count": 21,
   "metadata": {
    "colab": {
     "base_uri": "https://localhost:8080/",
     "height": 284
    },
    "id": "BCGpckeLgGem",
    "outputId": "3d1702ce-c624-41fc-d5be-1bbf82639e85"
   },
   "outputs": [
    {
     "data": {
      "text/html": [
       "<div>\n",
       "<style scoped>\n",
       "    .dataframe tbody tr th:only-of-type {\n",
       "        vertical-align: middle;\n",
       "    }\n",
       "\n",
       "    .dataframe tbody tr th {\n",
       "        vertical-align: top;\n",
       "    }\n",
       "\n",
       "    .dataframe thead th {\n",
       "        text-align: right;\n",
       "    }\n",
       "</style>\n",
       "<table border=\"1\" class=\"dataframe\">\n",
       "  <thead>\n",
       "    <tr style=\"text-align: right;\">\n",
       "      <th></th>\n",
       "      <th>imputation</th>\n",
       "    </tr>\n",
       "  </thead>\n",
       "  <tbody>\n",
       "    <tr>\n",
       "      <th>count</th>\n",
       "      <td>110398.000000</td>\n",
       "    </tr>\n",
       "    <tr>\n",
       "      <th>mean</th>\n",
       "      <td>81.651968</td>\n",
       "    </tr>\n",
       "    <tr>\n",
       "      <th>std</th>\n",
       "      <td>2.535997</td>\n",
       "    </tr>\n",
       "    <tr>\n",
       "      <th>min</th>\n",
       "      <td>68.131439</td>\n",
       "    </tr>\n",
       "    <tr>\n",
       "      <th>25%</th>\n",
       "      <td>80.600648</td>\n",
       "    </tr>\n",
       "    <tr>\n",
       "      <th>50%</th>\n",
       "      <td>82.605788</td>\n",
       "    </tr>\n",
       "    <tr>\n",
       "      <th>75%</th>\n",
       "      <td>83.812887</td>\n",
       "    </tr>\n",
       "    <tr>\n",
       "      <th>max</th>\n",
       "      <td>87.168339</td>\n",
       "    </tr>\n",
       "  </tbody>\n",
       "</table>\n",
       "</div>"
      ],
      "text/plain": [
       "          imputation\n",
       "count  110398.000000\n",
       "mean       81.651968\n",
       "std         2.535997\n",
       "min        68.131439\n",
       "25%        80.600648\n",
       "50%        82.605788\n",
       "75%        83.812887\n",
       "max        87.168339"
      ]
     },
     "execution_count": 21,
     "metadata": {
      "tags": []
     },
     "output_type": "execute_result"
    }
   ],
   "source": [
    "rating_df.describe()"
   ]
  },
  {
   "cell_type": "code",
   "execution_count": 22,
   "metadata": {
    "colab": {
     "base_uri": "https://localhost:8080/",
     "height": 422
    },
    "id": "_8CepDvSgGe0",
    "outputId": "5a17a461-3350-4226-82c0-9bdda7c99663"
   },
   "outputs": [
    {
     "data": {
      "text/html": [
       "<div>\n",
       "<style scoped>\n",
       "    .dataframe tbody tr th:only-of-type {\n",
       "        vertical-align: middle;\n",
       "    }\n",
       "\n",
       "    .dataframe tbody tr th {\n",
       "        vertical-align: top;\n",
       "    }\n",
       "\n",
       "    .dataframe thead th {\n",
       "        text-align: right;\n",
       "    }\n",
       "</style>\n",
       "<table border=\"1\" class=\"dataframe\">\n",
       "  <thead>\n",
       "    <tr style=\"text-align: right;\">\n",
       "      <th></th>\n",
       "      <th>hotel_id</th>\n",
       "      <th>city_id</th>\n",
       "      <th>content_score</th>\n",
       "      <th>n_images</th>\n",
       "      <th>distance_to_center</th>\n",
       "      <th>avg_rating</th>\n",
       "      <th>stars</th>\n",
       "      <th>n_reviews</th>\n",
       "      <th>avg_rank</th>\n",
       "      <th>avg_price</th>\n",
       "      <th>avg_saving_percent</th>\n",
       "      <th>n_clicks</th>\n",
       "    </tr>\n",
       "  </thead>\n",
       "  <tbody>\n",
       "    <tr>\n",
       "      <th>9</th>\n",
       "      <td>9.902959e+10</td>\n",
       "      <td>208612.0</td>\n",
       "      <td>48.0</td>\n",
       "      <td>1.0</td>\n",
       "      <td>1795.0</td>\n",
       "      <td>75.684395</td>\n",
       "      <td>0.0</td>\n",
       "      <td>0.0</td>\n",
       "      <td>19.000</td>\n",
       "      <td>21.38</td>\n",
       "      <td>0.0</td>\n",
       "      <td>0</td>\n",
       "    </tr>\n",
       "    <tr>\n",
       "      <th>26</th>\n",
       "      <td>1.004976e+11</td>\n",
       "      <td>54398.0</td>\n",
       "      <td>52.0</td>\n",
       "      <td>1.0</td>\n",
       "      <td>1013.0</td>\n",
       "      <td>75.438351</td>\n",
       "      <td>0.0</td>\n",
       "      <td>0.0</td>\n",
       "      <td>20.500</td>\n",
       "      <td>56.00</td>\n",
       "      <td>0.0</td>\n",
       "      <td>0</td>\n",
       "    </tr>\n",
       "    <tr>\n",
       "      <th>74</th>\n",
       "      <td>1.115944e+11</td>\n",
       "      <td>61992.0</td>\n",
       "      <td>45.0</td>\n",
       "      <td>0.0</td>\n",
       "      <td>144.0</td>\n",
       "      <td>75.438351</td>\n",
       "      <td>0.0</td>\n",
       "      <td>0.0</td>\n",
       "      <td>19.000</td>\n",
       "      <td>82.26</td>\n",
       "      <td>0.0</td>\n",
       "      <td>0</td>\n",
       "    </tr>\n",
       "    <tr>\n",
       "      <th>81</th>\n",
       "      <td>1.181972e+11</td>\n",
       "      <td>56480.0</td>\n",
       "      <td>49.0</td>\n",
       "      <td>0.0</td>\n",
       "      <td>10417.0</td>\n",
       "      <td>80.394163</td>\n",
       "      <td>0.0</td>\n",
       "      <td>0.0</td>\n",
       "      <td>10.500</td>\n",
       "      <td>175.80</td>\n",
       "      <td>0.0</td>\n",
       "      <td>0</td>\n",
       "    </tr>\n",
       "    <tr>\n",
       "      <th>93</th>\n",
       "      <td>1.191401e+11</td>\n",
       "      <td>27532.0</td>\n",
       "      <td>46.0</td>\n",
       "      <td>0.0</td>\n",
       "      <td>1321.0</td>\n",
       "      <td>75.438351</td>\n",
       "      <td>0.0</td>\n",
       "      <td>0.0</td>\n",
       "      <td>13.000</td>\n",
       "      <td>60.83</td>\n",
       "      <td>0.0</td>\n",
       "      <td>0</td>\n",
       "    </tr>\n",
       "    <tr>\n",
       "      <th>...</th>\n",
       "      <td>...</td>\n",
       "      <td>...</td>\n",
       "      <td>...</td>\n",
       "      <td>...</td>\n",
       "      <td>...</td>\n",
       "      <td>...</td>\n",
       "      <td>...</td>\n",
       "      <td>...</td>\n",
       "      <td>...</td>\n",
       "      <td>...</td>\n",
       "      <td>...</td>\n",
       "      <td>...</td>\n",
       "    </tr>\n",
       "    <tr>\n",
       "      <th>396482</th>\n",
       "      <td>1.277185e+11</td>\n",
       "      <td>55122.0</td>\n",
       "      <td>53.0</td>\n",
       "      <td>1.0</td>\n",
       "      <td>1516.0</td>\n",
       "      <td>75.438351</td>\n",
       "      <td>0.0</td>\n",
       "      <td>189.0</td>\n",
       "      <td>17.333</td>\n",
       "      <td>103.07</td>\n",
       "      <td>0.0</td>\n",
       "      <td>0</td>\n",
       "    </tr>\n",
       "    <tr>\n",
       "      <th>396483</th>\n",
       "      <td>6.841541e+09</td>\n",
       "      <td>55122.0</td>\n",
       "      <td>53.0</td>\n",
       "      <td>1.0</td>\n",
       "      <td>1516.0</td>\n",
       "      <td>75.684395</td>\n",
       "      <td>0.0</td>\n",
       "      <td>189.0</td>\n",
       "      <td>12.000</td>\n",
       "      <td>44.00</td>\n",
       "      <td>0.0</td>\n",
       "      <td>0</td>\n",
       "    </tr>\n",
       "    <tr>\n",
       "      <th>396484</th>\n",
       "      <td>8.649506e+10</td>\n",
       "      <td>55122.0</td>\n",
       "      <td>53.0</td>\n",
       "      <td>1.0</td>\n",
       "      <td>1516.0</td>\n",
       "      <td>75.684395</td>\n",
       "      <td>0.0</td>\n",
       "      <td>189.0</td>\n",
       "      <td>6.400</td>\n",
       "      <td>42.78</td>\n",
       "      <td>29.0</td>\n",
       "      <td>4</td>\n",
       "    </tr>\n",
       "    <tr>\n",
       "      <th>396485</th>\n",
       "      <td>1.293587e+11</td>\n",
       "      <td>55122.0</td>\n",
       "      <td>53.0</td>\n",
       "      <td>1.0</td>\n",
       "      <td>1516.0</td>\n",
       "      <td>75.438351</td>\n",
       "      <td>0.0</td>\n",
       "      <td>189.0</td>\n",
       "      <td>18.143</td>\n",
       "      <td>96.23</td>\n",
       "      <td>36.0</td>\n",
       "      <td>4</td>\n",
       "    </tr>\n",
       "    <tr>\n",
       "      <th>396486</th>\n",
       "      <td>1.609336e+10</td>\n",
       "      <td>55122.0</td>\n",
       "      <td>53.0</td>\n",
       "      <td>1.0</td>\n",
       "      <td>1516.0</td>\n",
       "      <td>75.438351</td>\n",
       "      <td>0.0</td>\n",
       "      <td>189.0</td>\n",
       "      <td>16.833</td>\n",
       "      <td>65.69</td>\n",
       "      <td>5.0</td>\n",
       "      <td>4</td>\n",
       "    </tr>\n",
       "  </tbody>\n",
       "</table>\n",
       "<p>110398 rows × 12 columns</p>\n",
       "</div>"
      ],
      "text/plain": [
       "            hotel_id   city_id  ...  avg_saving_percent  n_clicks\n",
       "9       9.902959e+10  208612.0  ...                 0.0         0\n",
       "26      1.004976e+11   54398.0  ...                 0.0         0\n",
       "74      1.115944e+11   61992.0  ...                 0.0         0\n",
       "81      1.181972e+11   56480.0  ...                 0.0         0\n",
       "93      1.191401e+11   27532.0  ...                 0.0         0\n",
       "...              ...       ...  ...                 ...       ...\n",
       "396482  1.277185e+11   55122.0  ...                 0.0         0\n",
       "396483  6.841541e+09   55122.0  ...                 0.0         0\n",
       "396484  8.649506e+10   55122.0  ...                29.0         4\n",
       "396485  1.293587e+11   55122.0  ...                36.0         4\n",
       "396486  1.609336e+10   55122.0  ...                 5.0         4\n",
       "\n",
       "[110398 rows x 12 columns]"
      ]
     },
     "execution_count": 22,
     "metadata": {
      "tags": []
     },
     "output_type": "execute_result"
    }
   ],
   "source": [
    "# assign the missing values with right index to predictions \n",
    "rating_test_df['avg_rating'] = rating_df\n",
    "rating_test_df"
   ]
  },
  {
   "cell_type": "code",
   "execution_count": 23,
   "metadata": {
    "colab": {
     "base_uri": "https://localhost:8080/",
     "height": 422
    },
    "id": "01y_Bj9MgGfR",
    "outputId": "e76150d9-fa0a-421f-edb0-a42800aa2070",
    "scrolled": false
   },
   "outputs": [
    {
     "data": {
      "text/html": [
       "<div>\n",
       "<style scoped>\n",
       "    .dataframe tbody tr th:only-of-type {\n",
       "        vertical-align: middle;\n",
       "    }\n",
       "\n",
       "    .dataframe tbody tr th {\n",
       "        vertical-align: top;\n",
       "    }\n",
       "\n",
       "    .dataframe thead th {\n",
       "        text-align: right;\n",
       "    }\n",
       "</style>\n",
       "<table border=\"1\" class=\"dataframe\">\n",
       "  <thead>\n",
       "    <tr style=\"text-align: right;\">\n",
       "      <th></th>\n",
       "      <th>hotel_id</th>\n",
       "      <th>city_id</th>\n",
       "      <th>content_score</th>\n",
       "      <th>n_images</th>\n",
       "      <th>distance_to_center</th>\n",
       "      <th>avg_rating</th>\n",
       "      <th>stars</th>\n",
       "      <th>n_reviews</th>\n",
       "      <th>avg_rank</th>\n",
       "      <th>avg_price</th>\n",
       "      <th>avg_saving_percent</th>\n",
       "      <th>n_clicks</th>\n",
       "    </tr>\n",
       "  </thead>\n",
       "  <tbody>\n",
       "    <tr>\n",
       "      <th>0</th>\n",
       "      <td>9.767406e+10</td>\n",
       "      <td>134520.0</td>\n",
       "      <td>70.0</td>\n",
       "      <td>2.0</td>\n",
       "      <td>1199.0</td>\n",
       "      <td>77.000000</td>\n",
       "      <td>4.0</td>\n",
       "      <td>861.0</td>\n",
       "      <td>17.550</td>\n",
       "      <td>81.64</td>\n",
       "      <td>18.0</td>\n",
       "      <td>0</td>\n",
       "    </tr>\n",
       "    <tr>\n",
       "      <th>1</th>\n",
       "      <td>9.768889e+10</td>\n",
       "      <td>133876.0</td>\n",
       "      <td>67.0</td>\n",
       "      <td>3.0</td>\n",
       "      <td>12585.0</td>\n",
       "      <td>90.000000</td>\n",
       "      <td>4.0</td>\n",
       "      <td>4371.0</td>\n",
       "      <td>17.383</td>\n",
       "      <td>189.38</td>\n",
       "      <td>28.0</td>\n",
       "      <td>4</td>\n",
       "    </tr>\n",
       "    <tr>\n",
       "      <th>2</th>\n",
       "      <td>9.811544e+10</td>\n",
       "      <td>133732.0</td>\n",
       "      <td>39.0</td>\n",
       "      <td>3.0</td>\n",
       "      <td>23491.0</td>\n",
       "      <td>83.000000</td>\n",
       "      <td>3.0</td>\n",
       "      <td>1005.0</td>\n",
       "      <td>16.438</td>\n",
       "      <td>57.63</td>\n",
       "      <td>27.0</td>\n",
       "      <td>44</td>\n",
       "    </tr>\n",
       "    <tr>\n",
       "      <th>3</th>\n",
       "      <td>9.824279e+10</td>\n",
       "      <td>43772.0</td>\n",
       "      <td>59.0</td>\n",
       "      <td>8.0</td>\n",
       "      <td>3291.0</td>\n",
       "      <td>73.000000</td>\n",
       "      <td>2.0</td>\n",
       "      <td>3084.0</td>\n",
       "      <td>7.000</td>\n",
       "      <td>72.16</td>\n",
       "      <td>2.0</td>\n",
       "      <td>4</td>\n",
       "    </tr>\n",
       "    <tr>\n",
       "      <th>4</th>\n",
       "      <td>9.833438e+10</td>\n",
       "      <td>50532.0</td>\n",
       "      <td>66.0</td>\n",
       "      <td>1.0</td>\n",
       "      <td>288.0</td>\n",
       "      <td>80.000000</td>\n",
       "      <td>0.0</td>\n",
       "      <td>603.0</td>\n",
       "      <td>12.564</td>\n",
       "      <td>173.25</td>\n",
       "      <td>0.0</td>\n",
       "      <td>10</td>\n",
       "    </tr>\n",
       "    <tr>\n",
       "      <th>...</th>\n",
       "      <td>...</td>\n",
       "      <td>...</td>\n",
       "      <td>...</td>\n",
       "      <td>...</td>\n",
       "      <td>...</td>\n",
       "      <td>...</td>\n",
       "      <td>...</td>\n",
       "      <td>...</td>\n",
       "      <td>...</td>\n",
       "      <td>...</td>\n",
       "      <td>...</td>\n",
       "      <td>...</td>\n",
       "    </tr>\n",
       "    <tr>\n",
       "      <th>396482</th>\n",
       "      <td>1.277185e+11</td>\n",
       "      <td>55122.0</td>\n",
       "      <td>53.0</td>\n",
       "      <td>1.0</td>\n",
       "      <td>1516.0</td>\n",
       "      <td>75.438351</td>\n",
       "      <td>0.0</td>\n",
       "      <td>189.0</td>\n",
       "      <td>17.333</td>\n",
       "      <td>103.07</td>\n",
       "      <td>0.0</td>\n",
       "      <td>0</td>\n",
       "    </tr>\n",
       "    <tr>\n",
       "      <th>396483</th>\n",
       "      <td>6.841541e+09</td>\n",
       "      <td>55122.0</td>\n",
       "      <td>53.0</td>\n",
       "      <td>1.0</td>\n",
       "      <td>1516.0</td>\n",
       "      <td>75.684395</td>\n",
       "      <td>0.0</td>\n",
       "      <td>189.0</td>\n",
       "      <td>12.000</td>\n",
       "      <td>44.00</td>\n",
       "      <td>0.0</td>\n",
       "      <td>0</td>\n",
       "    </tr>\n",
       "    <tr>\n",
       "      <th>396484</th>\n",
       "      <td>8.649506e+10</td>\n",
       "      <td>55122.0</td>\n",
       "      <td>53.0</td>\n",
       "      <td>1.0</td>\n",
       "      <td>1516.0</td>\n",
       "      <td>75.684395</td>\n",
       "      <td>0.0</td>\n",
       "      <td>189.0</td>\n",
       "      <td>6.400</td>\n",
       "      <td>42.78</td>\n",
       "      <td>29.0</td>\n",
       "      <td>4</td>\n",
       "    </tr>\n",
       "    <tr>\n",
       "      <th>396485</th>\n",
       "      <td>1.293587e+11</td>\n",
       "      <td>55122.0</td>\n",
       "      <td>53.0</td>\n",
       "      <td>1.0</td>\n",
       "      <td>1516.0</td>\n",
       "      <td>75.438351</td>\n",
       "      <td>0.0</td>\n",
       "      <td>189.0</td>\n",
       "      <td>18.143</td>\n",
       "      <td>96.23</td>\n",
       "      <td>36.0</td>\n",
       "      <td>4</td>\n",
       "    </tr>\n",
       "    <tr>\n",
       "      <th>396486</th>\n",
       "      <td>1.609336e+10</td>\n",
       "      <td>55122.0</td>\n",
       "      <td>53.0</td>\n",
       "      <td>1.0</td>\n",
       "      <td>1516.0</td>\n",
       "      <td>75.438351</td>\n",
       "      <td>0.0</td>\n",
       "      <td>189.0</td>\n",
       "      <td>16.833</td>\n",
       "      <td>65.69</td>\n",
       "      <td>5.0</td>\n",
       "      <td>4</td>\n",
       "    </tr>\n",
       "  </tbody>\n",
       "</table>\n",
       "<p>396487 rows × 12 columns</p>\n",
       "</div>"
      ],
      "text/plain": [
       "            hotel_id   city_id  ...  avg_saving_percent  n_clicks\n",
       "0       9.767406e+10  134520.0  ...                18.0         0\n",
       "1       9.768889e+10  133876.0  ...                28.0         4\n",
       "2       9.811544e+10  133732.0  ...                27.0        44\n",
       "3       9.824279e+10   43772.0  ...                 2.0         4\n",
       "4       9.833438e+10   50532.0  ...                 0.0        10\n",
       "...              ...       ...  ...                 ...       ...\n",
       "396482  1.277185e+11   55122.0  ...                 0.0         0\n",
       "396483  6.841541e+09   55122.0  ...                 0.0         0\n",
       "396484  8.649506e+10   55122.0  ...                29.0         4\n",
       "396485  1.293587e+11   55122.0  ...                36.0         4\n",
       "396486  1.609336e+10   55122.0  ...                 5.0         4\n",
       "\n",
       "[396487 rows x 12 columns]"
      ]
     },
     "execution_count": 23,
     "metadata": {
      "tags": []
     },
     "output_type": "execute_result"
    }
   ],
   "source": [
    "# concatenate the train and test dataframe back the original form\n",
    "imputed_df = pd.concat([rating_train_df, rating_test_df])\n",
    "imputed_df"
   ]
  },
  {
   "cell_type": "markdown",
   "metadata": {
    "id": "Axao6FNrgGfh"
   },
   "source": [
    "## Univariate Outlier"
   ]
  },
  {
   "cell_type": "code",
   "execution_count": 24,
   "metadata": {
    "colab": {
     "base_uri": "https://localhost:8080/",
     "height": 304
    },
    "id": "zwtXkJTkgGfj",
    "outputId": "778903d1-193d-4f26-df24-01d75ca5e506",
    "scrolled": false
   },
   "outputs": [
    {
     "data": {
      "text/html": [
       "<div>\n",
       "<style scoped>\n",
       "    .dataframe tbody tr th:only-of-type {\n",
       "        vertical-align: middle;\n",
       "    }\n",
       "\n",
       "    .dataframe tbody tr th {\n",
       "        vertical-align: top;\n",
       "    }\n",
       "\n",
       "    .dataframe thead th {\n",
       "        text-align: right;\n",
       "    }\n",
       "</style>\n",
       "<table border=\"1\" class=\"dataframe\">\n",
       "  <thead>\n",
       "    <tr style=\"text-align: right;\">\n",
       "      <th></th>\n",
       "      <th>hotel_id</th>\n",
       "      <th>city_id</th>\n",
       "      <th>content_score</th>\n",
       "      <th>n_images</th>\n",
       "      <th>distance_to_center</th>\n",
       "      <th>avg_rating</th>\n",
       "      <th>stars</th>\n",
       "      <th>n_reviews</th>\n",
       "      <th>avg_rank</th>\n",
       "      <th>avg_price</th>\n",
       "      <th>avg_saving_percent</th>\n",
       "      <th>n_clicks</th>\n",
       "    </tr>\n",
       "  </thead>\n",
       "  <tbody>\n",
       "    <tr>\n",
       "      <th>count</th>\n",
       "      <td>3.964870e+05</td>\n",
       "      <td>396487.000000</td>\n",
       "      <td>396487.000000</td>\n",
       "      <td>3.964870e+05</td>\n",
       "      <td>3.964870e+05</td>\n",
       "      <td>396487.000000</td>\n",
       "      <td>396487.000000</td>\n",
       "      <td>396487.000000</td>\n",
       "      <td>396487.000000</td>\n",
       "      <td>396487.000000</td>\n",
       "      <td>396487.000000</td>\n",
       "      <td>396487.000000</td>\n",
       "    </tr>\n",
       "    <tr>\n",
       "      <th>mean</th>\n",
       "      <td>1.326304e+11</td>\n",
       "      <td>149072.936066</td>\n",
       "      <td>50.995367</td>\n",
       "      <td>2.589896e+02</td>\n",
       "      <td>1.632404e+04</td>\n",
       "      <td>81.626394</td>\n",
       "      <td>1.158015</td>\n",
       "      <td>912.700555</td>\n",
       "      <td>14.694502</td>\n",
       "      <td>109.318464</td>\n",
       "      <td>7.176523</td>\n",
       "      <td>13.781980</td>\n",
       "    </tr>\n",
       "    <tr>\n",
       "      <th>std</th>\n",
       "      <td>1.033722e+11</td>\n",
       "      <td>219074.667559</td>\n",
       "      <td>11.556257</td>\n",
       "      <td>1.730570e+04</td>\n",
       "      <td>2.750368e+05</td>\n",
       "      <td>5.290106</td>\n",
       "      <td>1.619152</td>\n",
       "      <td>2431.014796</td>\n",
       "      <td>5.604578</td>\n",
       "      <td>148.168528</td>\n",
       "      <td>13.079568</td>\n",
       "      <td>123.572896</td>\n",
       "    </tr>\n",
       "    <tr>\n",
       "      <th>min</th>\n",
       "      <td>1.557962e+08</td>\n",
       "      <td>2.000000</td>\n",
       "      <td>7.000000</td>\n",
       "      <td>-1.000000e+00</td>\n",
       "      <td>0.000000e+00</td>\n",
       "      <td>34.000000</td>\n",
       "      <td>0.000000</td>\n",
       "      <td>0.000000</td>\n",
       "      <td>1.000000</td>\n",
       "      <td>4.000000</td>\n",
       "      <td>0.000000</td>\n",
       "      <td>0.000000</td>\n",
       "    </tr>\n",
       "    <tr>\n",
       "      <th>25%</th>\n",
       "      <td>4.062255e+10</td>\n",
       "      <td>32080.000000</td>\n",
       "      <td>45.000000</td>\n",
       "      <td>0.000000e+00</td>\n",
       "      <td>5.450000e+02</td>\n",
       "      <td>79.290087</td>\n",
       "      <td>0.000000</td>\n",
       "      <td>0.000000</td>\n",
       "      <td>11.091000</td>\n",
       "      <td>51.060000</td>\n",
       "      <td>0.000000</td>\n",
       "      <td>0.000000</td>\n",
       "    </tr>\n",
       "    <tr>\n",
       "      <th>50%</th>\n",
       "      <td>1.087280e+11</td>\n",
       "      <td>55122.000000</td>\n",
       "      <td>53.000000</td>\n",
       "      <td>1.000000e+00</td>\n",
       "      <td>1.516000e+03</td>\n",
       "      <td>82.605788</td>\n",
       "      <td>0.000000</td>\n",
       "      <td>189.000000</td>\n",
       "      <td>15.000000</td>\n",
       "      <td>77.650000</td>\n",
       "      <td>0.000000</td>\n",
       "      <td>0.000000</td>\n",
       "    </tr>\n",
       "    <tr>\n",
       "      <th>75%</th>\n",
       "      <td>2.281935e+11</td>\n",
       "      <td>137456.000000</td>\n",
       "      <td>59.000000</td>\n",
       "      <td>2.000000e+00</td>\n",
       "      <td>4.158000e+03</td>\n",
       "      <td>85.000000</td>\n",
       "      <td>3.000000</td>\n",
       "      <td>777.000000</td>\n",
       "      <td>18.375000</td>\n",
       "      <td>120.910000</td>\n",
       "      <td>10.000000</td>\n",
       "      <td>2.000000</td>\n",
       "    </tr>\n",
       "    <tr>\n",
       "      <th>max</th>\n",
       "      <td>3.237114e+11</td>\n",
       "      <td>878736.000000</td>\n",
       "      <td>81.000000</td>\n",
       "      <td>2.393911e+06</td>\n",
       "      <td>1.834155e+07</td>\n",
       "      <td>97.000000</td>\n",
       "      <td>5.000000</td>\n",
       "      <td>283089.000000</td>\n",
       "      <td>100.000000</td>\n",
       "      <td>8000.000000</td>\n",
       "      <td>99.000000</td>\n",
       "      <td>13742.000000</td>\n",
       "    </tr>\n",
       "  </tbody>\n",
       "</table>\n",
       "</div>"
      ],
      "text/plain": [
       "           hotel_id        city_id  ...  avg_saving_percent       n_clicks\n",
       "count  3.964870e+05  396487.000000  ...       396487.000000  396487.000000\n",
       "mean   1.326304e+11  149072.936066  ...            7.176523      13.781980\n",
       "std    1.033722e+11  219074.667559  ...           13.079568     123.572896\n",
       "min    1.557962e+08       2.000000  ...            0.000000       0.000000\n",
       "25%    4.062255e+10   32080.000000  ...            0.000000       0.000000\n",
       "50%    1.087280e+11   55122.000000  ...            0.000000       0.000000\n",
       "75%    2.281935e+11  137456.000000  ...           10.000000       2.000000\n",
       "max    3.237114e+11  878736.000000  ...           99.000000   13742.000000\n",
       "\n",
       "[8 rows x 12 columns]"
      ]
     },
     "execution_count": 24,
     "metadata": {
      "tags": []
     },
     "output_type": "execute_result"
    }
   ],
   "source": [
    "imputed_df.describe()"
   ]
  },
  {
   "cell_type": "markdown",
   "metadata": {},
   "source": [
    "Looking at `min` and `max` values for different columns it is observed these values does not make sense for some of these the columns based on domain knowledege. For instance, `n_image` can not be negative; however the minimum value for this factor is -1. For the same column, order of $10^6$ is too large for a quantity like number of images on the website of a hotel. It is reasonable to assume that hotels do not bother having more than $100$ pictures on their website. The number of data points that exceed this can be obtained as follows:"
   ]
  },
  {
   "cell_type": "code",
   "execution_count": 50,
   "metadata": {},
   "outputs": [
    {
     "data": {
      "text/plain": [
       "3627"
      ]
     },
     "execution_count": 50,
     "metadata": {},
     "output_type": "execute_result"
    }
   ],
   "source": [
    "n_images_bwn_0_100 = imputed_df['n_images'].between(0, 100)\n",
    "imputed_df[~n_images_bwn_0_100].shape[0]"
   ]
  },
  {
   "cell_type": "markdown",
   "metadata": {},
   "source": [
    "For `distance_to_center`, the median is about $1.5 \\times 10^3$ suggesting that the quantities are in meters; however the maximum value is about $1.8 \\times 10^7$ which would be around $10^4$ kilometers that does not make sense. Typically hotels does not want oto be further than $100$ kilometers to the city center. The number of data points that exceed this can be obtained as follows:"
   ]
  },
  {
   "cell_type": "code",
   "execution_count": 34,
   "metadata": {},
   "outputs": [
    {
     "data": {
      "text/plain": [
       "4555"
      ]
     },
     "execution_count": 34,
     "metadata": {},
     "output_type": "execute_result"
    }
   ],
   "source": [
    "distance_bwn_0_100000 = imputed_df['distance_to_center'].between(0, 10**5)\n",
    "imputed_df[~distance_0_100000].shape[0]"
   ]
  },
  {
   "cell_type": "markdown",
   "metadata": {},
   "source": [
    "For `n_reviews` is about $100$  reviews. Given that the most popular music videos on YouTube have about a million comments, having about $300,000$ reviews seems too high. It is not likely that a hotel have more than $10,000$ reviews. The number of data points that exceed this can be obtained as follows:"
   ]
  },
  {
   "cell_type": "code",
   "execution_count": 35,
   "metadata": {},
   "outputs": [
    {
     "data": {
      "text/plain": [
       "4024"
      ]
     },
     "execution_count": 35,
     "metadata": {},
     "output_type": "execute_result"
    }
   ],
   "source": [
    "n_reviews_bwn_0_10000 = ~imputed_df['n_reviews'].between(0, 10**4)\n",
    "imputed_df[n_reviews_bwn_0_10000].shape[0]"
   ]
  },
  {
   "cell_type": "markdown",
   "metadata": {},
   "source": [
    "For `avg_price` median is about $80$ which indicates the values should be in dollars; however, maximum value of $\\$8,000$ seems only remotely possible for presidential hotels which might not be the best cases to be considered for the purpose of this project. The number of data points that exceed this can be obtained as follows:"
   ]
  },
  {
   "cell_type": "code",
   "execution_count": 37,
   "metadata": {},
   "outputs": [
    {
     "data": {
      "text/plain": [
       "1364"
      ]
     },
     "execution_count": 37,
     "metadata": {},
     "output_type": "execute_result"
    }
   ],
   "source": [
    "avg_price_bwn_0_1000 = ~imputed_df['avg_price'].between(0, 10**3)\n",
    "imputed_df[avg_price_bwn_0_1000].shape[0]"
   ]
  },
  {
   "cell_type": "markdown",
   "metadata": {},
   "source": [
    "The number of data points for outliers of each feature is not high compared to the size of the dataset, so it is safe to remove them. Through removing these outliers, the cleaned dataset can be obtained as follows:"
   ]
  },
  {
   "cell_type": "code",
   "execution_count": 52,
   "metadata": {
    "scrolled": false
   },
   "outputs": [
    {
     "name": "stdout",
     "output_type": "stream",
     "text": [
      "<class 'pandas.core.frame.DataFrame'>\n",
      "Int64Index: 383093 entries, 0 to 396486\n",
      "Data columns (total 12 columns):\n",
      " #   Column              Non-Null Count   Dtype  \n",
      "---  ------              --------------   -----  \n",
      " 0   hotel_id            383093 non-null  float64\n",
      " 1   city_id             383093 non-null  float64\n",
      " 2   content_score       383093 non-null  float64\n",
      " 3   n_images            383093 non-null  float64\n",
      " 4   distance_to_center  383093 non-null  float64\n",
      " 5   avg_rating          383093 non-null  float64\n",
      " 6   stars               383093 non-null  float64\n",
      " 7   n_reviews           383093 non-null  float64\n",
      " 8   avg_rank            383093 non-null  float64\n",
      " 9   avg_price           383093 non-null  float64\n",
      " 10  avg_saving_percent  383093 non-null  float64\n",
      " 11  n_clicks            383093 non-null  int64  \n",
      "dtypes: float64(11), int64(1)\n",
      "memory usage: 38.0 MB\n"
     ]
    }
   ],
   "source": [
    "univariate_outlier_df = imputed_df[n_images_bwn_0_100 &\n",
    "                                   distance_bwn_0_100000 &\n",
    "                                   n_reviews_bwn_0_10000 &\n",
    "                                   avg_price_bwn_0_1000]\n",
    "univariate_outlier_df.info()"
   ]
  },
  {
   "cell_type": "markdown",
   "metadata": {
    "id": "IiJh9NbIgGfe"
   },
   "source": [
    "# Exploratory Analysis"
   ]
  },
  {
   "cell_type": "markdown",
   "metadata": {},
   "source": [
    "Discriptive statistics shows that different features have very different scales. For instance, `hotel_id` is in order of 10^11 while stars are less than 10. This can give undue effect to certain features over others and therefore has to be dealt with by scaling. \n",
    "Furthermore, qurtiles show that most of the features have skewed distribution that can decrease accuracy of predition techniques, so transformations should be employed to normalize feature distributions. To visuaize this the box-plots for scaled values of different columns are shown as follows:"
   ]
  },
  {
   "cell_type": "code",
   "execution_count": 25,
   "metadata": {
    "colab": {
     "base_uri": "https://localhost:8080/",
     "height": 310
    },
    "id": "LUUvXvNugGf2",
    "outputId": "d81f808b-248f-44bc-f360-3601e1af1061",
    "scrolled": true
   },
   "outputs": [
    {
     "data": {
      "image/png": "[encoded data removed]",
      "text/plain": [
       "<Figure size 1440x360 with 1 Axes>"
      ]
     },
     "metadata": {
      "needs_background": "light",
      "tags": []
     },
     "output_type": "display_data"
    }
   ],
   "source": [
    "min_max_scaler = MinMaxScaler()\n",
    "\n",
    "def min_max_dataframe_dist(df):\n",
    "    '''\n",
    "    computes and displays distributions of columns scaled by min-max scaer  \n",
    "    '''\n",
    "    min_max_df = pd.DataFrame(min_max_scaler.fit_transform(df), columns=df.columns)\n",
    "    min_max_df.plot.box(figsize=(20, 5));\n",
    "\n",
    "min_max_dataframe_dist(fill_df)"
   ]
  },
  {
   "cell_type": "code",
   "execution_count": 26,
   "metadata": {
    "colab": {
     "base_uri": "https://localhost:8080/"
    },
    "id": "gfmYQRbIgGgP",
    "outputId": "bac9a62b-687c-449a-9726-311cd11758cb"
   },
   "outputs": [
    {
     "data": {
      "text/plain": [
       "323555587601.0"
      ]
     },
     "execution_count": 26,
     "metadata": {
      "tags": []
     },
     "output_type": "execute_result"
    }
   ],
   "source": [
    "# numerical difference between hotel ids compared to data size\n",
    "imputed_df.hotel_id.max() - imputed_df.hotel_id.min() "
   ]
  },
  {
   "cell_type": "markdown",
   "metadata": {
    "id": "P-HnOWVZgGgZ"
   },
   "source": [
    "Except for `hotel_id`, `content_score`, and `stars` rest of columns are extremely skewed. "
   ]
  },
  {
   "cell_type": "markdown",
   "metadata": {
    "id": "Tf2ic3eIgGgf"
   },
   "source": [
    "## Unique Values"
   ]
  },
  {
   "cell_type": "code",
   "execution_count": 27,
   "metadata": {
    "colab": {
     "base_uri": "https://localhost:8080/"
    },
    "id": "wgDHeHG0gGgh",
    "outputId": "60208151-87e7-4cb0-ca53-b3d396f53ddd",
    "scrolled": true
   },
   "outputs": [
    {
     "data": {
      "text/plain": [
       "hotel_id              396487\n",
       "city_id                33213\n",
       "content_score             75\n",
       "n_images                 318\n",
       "distance_to_center     32694\n",
       "avg_rating                79\n",
       "stars                      6\n",
       "n_reviews               5817\n",
       "avg_rank               18563\n",
       "avg_price              41545\n",
       "avg_saving_percent       100\n",
       "n_clicks                1020\n",
       "dtype: int64"
      ]
     },
     "execution_count": 27,
     "metadata": {
      "tags": []
     },
     "output_type": "execute_result"
    }
   ],
   "source": [
    "imputed_df.nunique() "
   ]
  },
  {
   "cell_type": "markdown",
   "metadata": {
    "id": "qSVEXn3cgGgy"
   },
   "source": [
    "There are as many unique `hotel_id` as there are data points, therefore the ids are distributed uniformly. Except for stars, rest of the columns have high number of unique numbers."
   ]
  },
  {
   "cell_type": "code",
   "execution_count": 28,
   "metadata": {
    "colab": {
     "base_uri": "https://localhost:8080/",
     "height": 0
    },
    "id": "iXyLIDmsgGg0",
    "outputId": "719e1351-8993-4133-cff3-583b0298715c"
   },
   "outputs": [
    {
     "data": {
      "text/html": [
       "<div>\n",
       "<style scoped>\n",
       "    .dataframe tbody tr th:only-of-type {\n",
       "        vertical-align: middle;\n",
       "    }\n",
       "\n",
       "    .dataframe tbody tr th {\n",
       "        vertical-align: top;\n",
       "    }\n",
       "\n",
       "    .dataframe thead th {\n",
       "        text-align: right;\n",
       "    }\n",
       "</style>\n",
       "<table border=\"1\" class=\"dataframe\">\n",
       "  <thead>\n",
       "    <tr style=\"text-align: right;\">\n",
       "      <th></th>\n",
       "      <th>hotel_id</th>\n",
       "      <th>city_id</th>\n",
       "      <th>content_score</th>\n",
       "      <th>n_images</th>\n",
       "      <th>distance_to_center</th>\n",
       "      <th>avg_rating</th>\n",
       "      <th>stars</th>\n",
       "      <th>n_reviews</th>\n",
       "      <th>avg_rank</th>\n",
       "      <th>avg_price</th>\n",
       "      <th>avg_saving_percent</th>\n",
       "      <th>n_clicks</th>\n",
       "    </tr>\n",
       "  </thead>\n",
       "  <tbody>\n",
       "    <tr>\n",
       "      <th>count</th>\n",
       "      <td>3.964870e+05</td>\n",
       "      <td>396487.000000</td>\n",
       "      <td>396487.000000</td>\n",
       "      <td>3.964870e+05</td>\n",
       "      <td>3.964870e+05</td>\n",
       "      <td>396487.000000</td>\n",
       "      <td>396487.000000</td>\n",
       "      <td>396487.000000</td>\n",
       "      <td>396487.000000</td>\n",
       "      <td>396487.000000</td>\n",
       "      <td>396487.000000</td>\n",
       "      <td>396487.000000</td>\n",
       "    </tr>\n",
       "    <tr>\n",
       "      <th>mean</th>\n",
       "      <td>1.326304e+11</td>\n",
       "      <td>149072.936066</td>\n",
       "      <td>50.995367</td>\n",
       "      <td>2.589896e+02</td>\n",
       "      <td>1.632404e+04</td>\n",
       "      <td>81.626394</td>\n",
       "      <td>1.158015</td>\n",
       "      <td>912.700555</td>\n",
       "      <td>14.694502</td>\n",
       "      <td>109.318464</td>\n",
       "      <td>7.176523</td>\n",
       "      <td>13.781980</td>\n",
       "    </tr>\n",
       "    <tr>\n",
       "      <th>std</th>\n",
       "      <td>1.033722e+11</td>\n",
       "      <td>219074.667559</td>\n",
       "      <td>11.556257</td>\n",
       "      <td>1.730570e+04</td>\n",
       "      <td>2.750368e+05</td>\n",
       "      <td>5.290106</td>\n",
       "      <td>1.619152</td>\n",
       "      <td>2431.014796</td>\n",
       "      <td>5.604578</td>\n",
       "      <td>148.168528</td>\n",
       "      <td>13.079568</td>\n",
       "      <td>123.572896</td>\n",
       "    </tr>\n",
       "    <tr>\n",
       "      <th>min</th>\n",
       "      <td>1.557962e+08</td>\n",
       "      <td>2.000000</td>\n",
       "      <td>7.000000</td>\n",
       "      <td>-1.000000e+00</td>\n",
       "      <td>0.000000e+00</td>\n",
       "      <td>34.000000</td>\n",
       "      <td>0.000000</td>\n",
       "      <td>0.000000</td>\n",
       "      <td>1.000000</td>\n",
       "      <td>4.000000</td>\n",
       "      <td>0.000000</td>\n",
       "      <td>0.000000</td>\n",
       "    </tr>\n",
       "    <tr>\n",
       "      <th>25%</th>\n",
       "      <td>4.062255e+10</td>\n",
       "      <td>32080.000000</td>\n",
       "      <td>45.000000</td>\n",
       "      <td>0.000000e+00</td>\n",
       "      <td>5.450000e+02</td>\n",
       "      <td>79.290087</td>\n",
       "      <td>0.000000</td>\n",
       "      <td>0.000000</td>\n",
       "      <td>11.091000</td>\n",
       "      <td>51.060000</td>\n",
       "      <td>0.000000</td>\n",
       "      <td>0.000000</td>\n",
       "    </tr>\n",
       "    <tr>\n",
       "      <th>50%</th>\n",
       "      <td>1.087280e+11</td>\n",
       "      <td>55122.000000</td>\n",
       "      <td>53.000000</td>\n",
       "      <td>1.000000e+00</td>\n",
       "      <td>1.516000e+03</td>\n",
       "      <td>82.605788</td>\n",
       "      <td>0.000000</td>\n",
       "      <td>189.000000</td>\n",
       "      <td>15.000000</td>\n",
       "      <td>77.650000</td>\n",
       "      <td>0.000000</td>\n",
       "      <td>0.000000</td>\n",
       "    </tr>\n",
       "    <tr>\n",
       "      <th>75%</th>\n",
       "      <td>2.281935e+11</td>\n",
       "      <td>137456.000000</td>\n",
       "      <td>59.000000</td>\n",
       "      <td>2.000000e+00</td>\n",
       "      <td>4.158000e+03</td>\n",
       "      <td>85.000000</td>\n",
       "      <td>3.000000</td>\n",
       "      <td>777.000000</td>\n",
       "      <td>18.375000</td>\n",
       "      <td>120.910000</td>\n",
       "      <td>10.000000</td>\n",
       "      <td>2.000000</td>\n",
       "    </tr>\n",
       "    <tr>\n",
       "      <th>max</th>\n",
       "      <td>3.237114e+11</td>\n",
       "      <td>878736.000000</td>\n",
       "      <td>81.000000</td>\n",
       "      <td>2.393911e+06</td>\n",
       "      <td>1.834155e+07</td>\n",
       "      <td>97.000000</td>\n",
       "      <td>5.000000</td>\n",
       "      <td>283089.000000</td>\n",
       "      <td>100.000000</td>\n",
       "      <td>8000.000000</td>\n",
       "      <td>99.000000</td>\n",
       "      <td>13742.000000</td>\n",
       "    </tr>\n",
       "  </tbody>\n",
       "</table>\n",
       "</div>"
      ],
      "text/plain": [
       "           hotel_id        city_id  ...  avg_saving_percent       n_clicks\n",
       "count  3.964870e+05  396487.000000  ...       396487.000000  396487.000000\n",
       "mean   1.326304e+11  149072.936066  ...            7.176523      13.781980\n",
       "std    1.033722e+11  219074.667559  ...           13.079568     123.572896\n",
       "min    1.557962e+08       2.000000  ...            0.000000       0.000000\n",
       "25%    4.062255e+10   32080.000000  ...            0.000000       0.000000\n",
       "50%    1.087280e+11   55122.000000  ...            0.000000       0.000000\n",
       "75%    2.281935e+11  137456.000000  ...           10.000000       2.000000\n",
       "max    3.237114e+11  878736.000000  ...           99.000000   13742.000000\n",
       "\n",
       "[8 rows x 12 columns]"
      ]
     },
     "execution_count": 28,
     "metadata": {
      "tags": []
     },
     "output_type": "execute_result"
    }
   ],
   "source": [
    "imputed_df.describe()"
   ]
  },
  {
   "cell_type": "markdown",
   "metadata": {
    "id": "e77_tGILgGhA"
   },
   "source": [
    "## Correlation Analysis"
   ]
  },
  {
   "cell_type": "code",
   "execution_count": 29,
   "metadata": {
    "colab": {
     "base_uri": "https://localhost:8080/",
     "height": 215
    },
    "id": "lIfYxRnWgGhD",
    "outputId": "78f87167-a0c0-4cff-b9bd-05d7f7c62dd8",
    "scrolled": false
   },
   "outputs": [
    {
     "data": {
      "text/html": [
       "<div>\n",
       "<style scoped>\n",
       "    .dataframe tbody tr th:only-of-type {\n",
       "        vertical-align: middle;\n",
       "    }\n",
       "\n",
       "    .dataframe tbody tr th {\n",
       "        vertical-align: top;\n",
       "    }\n",
       "\n",
       "    .dataframe thead th {\n",
       "        text-align: right;\n",
       "    }\n",
       "</style>\n",
       "<table border=\"1\" class=\"dataframe\">\n",
       "  <thead>\n",
       "    <tr style=\"text-align: right;\">\n",
       "      <th></th>\n",
       "      <th>hotel_id</th>\n",
       "      <th>city_id</th>\n",
       "      <th>content_score</th>\n",
       "      <th>n_images</th>\n",
       "      <th>distance_to_center</th>\n",
       "      <th>avg_rating</th>\n",
       "      <th>stars</th>\n",
       "      <th>n_reviews</th>\n",
       "      <th>avg_rank</th>\n",
       "      <th>avg_price</th>\n",
       "      <th>avg_saving_percent</th>\n",
       "      <th>n_clicks</th>\n",
       "    </tr>\n",
       "  </thead>\n",
       "  <tbody>\n",
       "    <tr>\n",
       "      <th>0</th>\n",
       "      <td>9.767406e+10</td>\n",
       "      <td>134520.0</td>\n",
       "      <td>70.0</td>\n",
       "      <td>2.0</td>\n",
       "      <td>1199.0</td>\n",
       "      <td>77.0</td>\n",
       "      <td>4.0</td>\n",
       "      <td>861.0</td>\n",
       "      <td>17.550</td>\n",
       "      <td>81.64</td>\n",
       "      <td>18.0</td>\n",
       "      <td>0</td>\n",
       "    </tr>\n",
       "    <tr>\n",
       "      <th>1</th>\n",
       "      <td>9.768889e+10</td>\n",
       "      <td>133876.0</td>\n",
       "      <td>67.0</td>\n",
       "      <td>3.0</td>\n",
       "      <td>12585.0</td>\n",
       "      <td>90.0</td>\n",
       "      <td>4.0</td>\n",
       "      <td>4371.0</td>\n",
       "      <td>17.383</td>\n",
       "      <td>189.38</td>\n",
       "      <td>28.0</td>\n",
       "      <td>4</td>\n",
       "    </tr>\n",
       "    <tr>\n",
       "      <th>2</th>\n",
       "      <td>9.811544e+10</td>\n",
       "      <td>133732.0</td>\n",
       "      <td>39.0</td>\n",
       "      <td>3.0</td>\n",
       "      <td>23491.0</td>\n",
       "      <td>83.0</td>\n",
       "      <td>3.0</td>\n",
       "      <td>1005.0</td>\n",
       "      <td>16.438</td>\n",
       "      <td>57.63</td>\n",
       "      <td>27.0</td>\n",
       "      <td>44</td>\n",
       "    </tr>\n",
       "    <tr>\n",
       "      <th>3</th>\n",
       "      <td>9.824279e+10</td>\n",
       "      <td>43772.0</td>\n",
       "      <td>59.0</td>\n",
       "      <td>8.0</td>\n",
       "      <td>3291.0</td>\n",
       "      <td>73.0</td>\n",
       "      <td>2.0</td>\n",
       "      <td>3084.0</td>\n",
       "      <td>7.000</td>\n",
       "      <td>72.16</td>\n",
       "      <td>2.0</td>\n",
       "      <td>4</td>\n",
       "    </tr>\n",
       "    <tr>\n",
       "      <th>4</th>\n",
       "      <td>9.833438e+10</td>\n",
       "      <td>50532.0</td>\n",
       "      <td>66.0</td>\n",
       "      <td>1.0</td>\n",
       "      <td>288.0</td>\n",
       "      <td>80.0</td>\n",
       "      <td>0.0</td>\n",
       "      <td>603.0</td>\n",
       "      <td>12.564</td>\n",
       "      <td>173.25</td>\n",
       "      <td>0.0</td>\n",
       "      <td>10</td>\n",
       "    </tr>\n",
       "  </tbody>\n",
       "</table>\n",
       "</div>"
      ],
      "text/plain": [
       "       hotel_id   city_id  ...  avg_saving_percent  n_clicks\n",
       "0  9.767406e+10  134520.0  ...                18.0         0\n",
       "1  9.768889e+10  133876.0  ...                28.0         4\n",
       "2  9.811544e+10  133732.0  ...                27.0        44\n",
       "3  9.824279e+10   43772.0  ...                 2.0         4\n",
       "4  9.833438e+10   50532.0  ...                 0.0        10\n",
       "\n",
       "[5 rows x 12 columns]"
      ]
     },
     "execution_count": 29,
     "metadata": {
      "tags": []
     },
     "output_type": "execute_result"
    }
   ],
   "source": [
    "imputed_df.head() "
   ]
  },
  {
   "cell_type": "code",
   "execution_count": 63,
   "metadata": {},
   "outputs": [
    {
     "data": {
      "image/png": "[encoded data removed]",
      "text/plain": [
       "<Figure size 1080x360 with 2 Axes>"
      ]
     },
     "metadata": {
      "needs_background": "light"
     },
     "output_type": "display_data"
    }
   ],
   "source": [
    "# heatmap of correlation matrix\n",
    "plt.figure(figsize=(15,5))\n",
    "sns.heatmap(imputed_df.corr(), annot=True);"
   ]
  },
  {
   "cell_type": "markdown",
   "metadata": {
    "id": "omqcCVvNgGh3"
   },
   "source": [
    "The last row of the pair plot clearly shows the strong relationship between these variables and number of clicks."
   ]
  },
  {
   "cell_type": "markdown",
   "metadata": {
    "id": "1VMY-btRgGh4"
   },
   "source": [
    "## Multivariate Outliers "
   ]
  },
  {
   "cell_type": "code",
   "execution_count": null,
   "metadata": {
    "id": "rTns2kpygGiV"
   },
   "outputs": [],
   "source": [
    "# seperate target from features\n",
    "X = imputed_df[imputed_df.columns[:-1]]\n",
    "y = imputed_df[imputed_df.columns[-1]]"
   ]
  },
  {
   "cell_type": "code",
   "execution_count": null,
   "metadata": {
    "id": "Qmy6Ay1igGi3"
   },
   "outputs": [],
   "source": [
    "# scale data with standard scaler\n",
    "from sklearn.preprocessing import StandardScaler\n",
    "scaler = StandardScaler()\n",
    "X = pd.DataFrame(data=scaler.fit_transform(X), columns=X.columns)"
   ]
  },
  {
   "cell_type": "markdown",
   "metadata": {
    "id": "EhFRcABdgGjE"
   },
   "source": [
    "Skewed distributions is likely to introduce bias to the prediction algorithms. The prediction problem is multi-dimentional.  Therefore, multi-dimentional outliers are detected using an unsupervised machine learning technique. "
   ]
  },
  {
   "cell_type": "code",
   "execution_count": null,
   "metadata": {
    "id": "w_q3AYFQgGjG",
    "outputId": "37f87605-9df3-4900-9e20-135380df05d8"
   },
   "outputs": [
    {
     "data": {
      "image/png": "[encoded data removed]",
      "text/plain": [
       "<Figure size 432x288 with 1 Axes>"
      ]
     },
     "metadata": {
      "needs_background": "light",
      "tags": []
     },
     "output_type": "display_data"
    }
   ],
   "source": [
    "# elbow diagram\n",
    "inertia_dict = {}\n",
    "for k in range(1,20):\n",
    "    km = KMeans(n_clusters=k).fit(X)\n",
    "    inertia_dict[k] = km.inertia_    \n",
    "plt.scatter(inertia_dict.keys(), inertia_dict.values())\n",
    "plt.xlabel('Clusters')\n",
    "plt.ylabel('Inertia');"
   ]
  },
  {
   "cell_type": "code",
   "execution_count": null,
   "metadata": {
    "id": "4yLk1B_rgGjO",
    "outputId": "2310b67a-7036-4525-ebaf-f50afaa73c50"
   },
   "outputs": [
    {
     "data": {
      "text/plain": [
       "hotel_id              False\n",
       "city_id               False\n",
       "content_score         False\n",
       "n_images               True\n",
       "distance_to_center     True\n",
       "avg_rating            False\n",
       "stars                  True\n",
       "n_reviews              True\n",
       "avg_rank              False\n",
       "avg_price             False\n",
       "avg_saving_percent     True\n",
       "n_clicks               True\n",
       "dtype: bool"
      ]
     },
     "execution_count": 42,
     "metadata": {
      "tags": []
     },
     "output_type": "execute_result"
    }
   ],
   "source": [
    "# detect wether any column has zeros\n",
    "zero_test = (outlier_df == 0).any()\n",
    "zero_test"
   ]
  },
  {
   "cell_type": "code",
   "execution_count": null,
   "metadata": {
    "id": "v3RTVML6gGjY"
   },
   "outputs": [],
   "source": [
    "km = KMeans(n_clusters=11).fit(X)"
   ]
  },
  {
   "cell_type": "code",
   "execution_count": null,
   "metadata": {
    "id": "wZVhDWEBgGjh"
   },
   "outputs": [],
   "source": [
    "tsne = TSNE(n_components=2)\n",
    "X_tsne = tsne.fit_transform(X)"
   ]
  },
  {
   "cell_type": "code",
   "execution_count": null,
   "metadata": {
    "id": "KbBF3xT3gGj8",
    "outputId": "08e55b90-bfcc-4c0b-e93a-5dd5ec7ee0e5",
    "scrolled": true
   },
   "outputs": [
    {
     "data": {
      "text/plain": [
       "<matplotlib.legend.Legend at 0x24ddd90fd88>"
      ]
     },
     "execution_count": 153,
     "metadata": {
      "tags": []
     },
     "output_type": "execute_result"
    },
    {
     "data": {
      "image/png": "[encoded data removed]",
      "text/plain": [
       "<Figure size 432x288 with 1 Axes>"
      ]
     },
     "metadata": {
      "needs_background": "light",
      "tags": []
     },
     "output_type": "display_data"
    }
   ],
   "source": [
    "y = km.labels_\n",
    "fig, ax = plt.subplots()\n",
    "\n",
    "groups = pd.DataFrame(X_tsne, columns=['x', 'y']).assign(category=y).groupby('category')\n",
    "for name, points in groups:\n",
    "    ax.scatter(points.x, points.y, label=name);\n",
    "\n",
    "ax.legend(loc='center left', bbox_to_anchor=(1, 0.5))"
   ]
  },
  {
   "cell_type": "code",
   "execution_count": null,
   "metadata": {
    "id": "8fIrJk-ngGkD",
    "outputId": "0c894d14-5bb3-484d-fa2d-88a6f1829ba2"
   },
   "outputs": [
    {
     "data": {
      "text/html": [
       "<div>\n",
       "<style scoped>\n",
       "    .dataframe tbody tr th:only-of-type {\n",
       "        vertical-align: middle;\n",
       "    }\n",
       "\n",
       "    .dataframe tbody tr th {\n",
       "        vertical-align: top;\n",
       "    }\n",
       "\n",
       "    .dataframe thead th {\n",
       "        text-align: right;\n",
       "    }\n",
       "</style>\n",
       "<table border=\"1\" class=\"dataframe\">\n",
       "  <thead>\n",
       "    <tr style=\"text-align: right;\">\n",
       "      <th></th>\n",
       "      <th>hotel_id</th>\n",
       "      <th>city_id</th>\n",
       "      <th>content_score</th>\n",
       "      <th>n_images</th>\n",
       "      <th>distance_to_center</th>\n",
       "      <th>avg_rating</th>\n",
       "      <th>stars</th>\n",
       "      <th>n_reviews</th>\n",
       "      <th>avg_rank</th>\n",
       "      <th>avg_price</th>\n",
       "      <th>avg_saving_percent</th>\n",
       "      <th>n_clicks</th>\n",
       "      <th>km_labels</th>\n",
       "    </tr>\n",
       "  </thead>\n",
       "  <tbody>\n",
       "    <tr>\n",
       "      <th>108812</th>\n",
       "      <td>2.014708e+11</td>\n",
       "      <td>874890.0</td>\n",
       "      <td>54.0</td>\n",
       "      <td>0.0</td>\n",
       "      <td>1139.0</td>\n",
       "      <td>82.057911</td>\n",
       "      <td>5.0</td>\n",
       "      <td>0.0</td>\n",
       "      <td>15.636</td>\n",
       "      <td>61.95</td>\n",
       "      <td>0.0</td>\n",
       "      <td>0</td>\n",
       "      <td>2</td>\n",
       "    </tr>\n",
       "    <tr>\n",
       "      <th>314264</th>\n",
       "      <td>3.090130e+11</td>\n",
       "      <td>139398.0</td>\n",
       "      <td>24.0</td>\n",
       "      <td>0.0</td>\n",
       "      <td>0.0</td>\n",
       "      <td>86.000000</td>\n",
       "      <td>0.0</td>\n",
       "      <td>96.0</td>\n",
       "      <td>13.400</td>\n",
       "      <td>232.87</td>\n",
       "      <td>0.0</td>\n",
       "      <td>0</td>\n",
       "      <td>9</td>\n",
       "    </tr>\n",
       "    <tr>\n",
       "      <th>102145</th>\n",
       "      <td>8.637300e+10</td>\n",
       "      <td>68564.0</td>\n",
       "      <td>65.0</td>\n",
       "      <td>2.0</td>\n",
       "      <td>421.0</td>\n",
       "      <td>85.000000</td>\n",
       "      <td>4.0</td>\n",
       "      <td>129.0</td>\n",
       "      <td>12.090</td>\n",
       "      <td>84.27</td>\n",
       "      <td>20.0</td>\n",
       "      <td>6</td>\n",
       "      <td>3</td>\n",
       "    </tr>\n",
       "    <tr>\n",
       "      <th>13163</th>\n",
       "      <td>5.185987e+10</td>\n",
       "      <td>38952.0</td>\n",
       "      <td>57.0</td>\n",
       "      <td>3.0</td>\n",
       "      <td>3061.0</td>\n",
       "      <td>84.000000</td>\n",
       "      <td>2.0</td>\n",
       "      <td>537.0</td>\n",
       "      <td>14.500</td>\n",
       "      <td>86.59</td>\n",
       "      <td>2.0</td>\n",
       "      <td>0</td>\n",
       "      <td>3</td>\n",
       "    </tr>\n",
       "    <tr>\n",
       "      <th>199435</th>\n",
       "      <td>6.179556e+10</td>\n",
       "      <td>253842.0</td>\n",
       "      <td>62.0</td>\n",
       "      <td>1.0</td>\n",
       "      <td>1775.0</td>\n",
       "      <td>77.000000</td>\n",
       "      <td>3.0</td>\n",
       "      <td>147.0</td>\n",
       "      <td>24.000</td>\n",
       "      <td>27.60</td>\n",
       "      <td>9.0</td>\n",
       "      <td>0</td>\n",
       "      <td>10</td>\n",
       "    </tr>\n",
       "    <tr>\n",
       "      <th>...</th>\n",
       "      <td>...</td>\n",
       "      <td>...</td>\n",
       "      <td>...</td>\n",
       "      <td>...</td>\n",
       "      <td>...</td>\n",
       "      <td>...</td>\n",
       "      <td>...</td>\n",
       "      <td>...</td>\n",
       "      <td>...</td>\n",
       "      <td>...</td>\n",
       "      <td>...</td>\n",
       "      <td>...</td>\n",
       "      <td>...</td>\n",
       "    </tr>\n",
       "    <tr>\n",
       "      <th>288021</th>\n",
       "      <td>1.528746e+11</td>\n",
       "      <td>26992.0</td>\n",
       "      <td>49.0</td>\n",
       "      <td>0.0</td>\n",
       "      <td>1216.0</td>\n",
       "      <td>81.686448</td>\n",
       "      <td>3.0</td>\n",
       "      <td>0.0</td>\n",
       "      <td>20.333</td>\n",
       "      <td>257.12</td>\n",
       "      <td>6.0</td>\n",
       "      <td>0</td>\n",
       "      <td>3</td>\n",
       "    </tr>\n",
       "    <tr>\n",
       "      <th>48610</th>\n",
       "      <td>3.511192e+09</td>\n",
       "      <td>30554.0</td>\n",
       "      <td>62.0</td>\n",
       "      <td>5.0</td>\n",
       "      <td>1792.0</td>\n",
       "      <td>85.000000</td>\n",
       "      <td>4.0</td>\n",
       "      <td>102.0</td>\n",
       "      <td>15.262</td>\n",
       "      <td>109.76</td>\n",
       "      <td>10.0</td>\n",
       "      <td>38</td>\n",
       "      <td>3</td>\n",
       "    </tr>\n",
       "    <tr>\n",
       "      <th>20286</th>\n",
       "      <td>2.908329e+10</td>\n",
       "      <td>193284.0</td>\n",
       "      <td>66.0</td>\n",
       "      <td>2.0</td>\n",
       "      <td>2102.0</td>\n",
       "      <td>82.000000</td>\n",
       "      <td>4.0</td>\n",
       "      <td>2241.0</td>\n",
       "      <td>15.215</td>\n",
       "      <td>98.84</td>\n",
       "      <td>4.0</td>\n",
       "      <td>118</td>\n",
       "      <td>3</td>\n",
       "    </tr>\n",
       "    <tr>\n",
       "      <th>311631</th>\n",
       "      <td>1.828130e+11</td>\n",
       "      <td>54372.0</td>\n",
       "      <td>48.0</td>\n",
       "      <td>0.0</td>\n",
       "      <td>1997.0</td>\n",
       "      <td>77.180199</td>\n",
       "      <td>0.0</td>\n",
       "      <td>0.0</td>\n",
       "      <td>16.556</td>\n",
       "      <td>114.00</td>\n",
       "      <td>0.0</td>\n",
       "      <td>0</td>\n",
       "      <td>7</td>\n",
       "    </tr>\n",
       "    <tr>\n",
       "      <th>123976</th>\n",
       "      <td>2.476316e+11</td>\n",
       "      <td>3332.0</td>\n",
       "      <td>42.0</td>\n",
       "      <td>0.0</td>\n",
       "      <td>3763.0</td>\n",
       "      <td>83.888840</td>\n",
       "      <td>0.0</td>\n",
       "      <td>0.0</td>\n",
       "      <td>9.714</td>\n",
       "      <td>418.17</td>\n",
       "      <td>0.0</td>\n",
       "      <td>2</td>\n",
       "      <td>9</td>\n",
       "    </tr>\n",
       "  </tbody>\n",
       "</table>\n",
       "<p>3965 rows × 13 columns</p>\n",
       "</div>"
      ],
      "text/plain": [
       "            hotel_id   city_id  content_score  n_images  distance_to_center  \\\n",
       "108812  2.014708e+11  874890.0           54.0       0.0              1139.0   \n",
       "314264  3.090130e+11  139398.0           24.0       0.0                 0.0   \n",
       "102145  8.637300e+10   68564.0           65.0       2.0               421.0   \n",
       "13163   5.185987e+10   38952.0           57.0       3.0              3061.0   \n",
       "199435  6.179556e+10  253842.0           62.0       1.0              1775.0   \n",
       "...              ...       ...            ...       ...                 ...   \n",
       "288021  1.528746e+11   26992.0           49.0       0.0              1216.0   \n",
       "48610   3.511192e+09   30554.0           62.0       5.0              1792.0   \n",
       "20286   2.908329e+10  193284.0           66.0       2.0              2102.0   \n",
       "311631  1.828130e+11   54372.0           48.0       0.0              1997.0   \n",
       "123976  2.476316e+11    3332.0           42.0       0.0              3763.0   \n",
       "\n",
       "        avg_rating  stars  n_reviews  avg_rank  avg_price  avg_saving_percent  \\\n",
       "108812   82.057911    5.0        0.0    15.636      61.95                 0.0   \n",
       "314264   86.000000    0.0       96.0    13.400     232.87                 0.0   \n",
       "102145   85.000000    4.0      129.0    12.090      84.27                20.0   \n",
       "13163    84.000000    2.0      537.0    14.500      86.59                 2.0   \n",
       "199435   77.000000    3.0      147.0    24.000      27.60                 9.0   \n",
       "...            ...    ...        ...       ...        ...                 ...   \n",
       "288021   81.686448    3.0        0.0    20.333     257.12                 6.0   \n",
       "48610    85.000000    4.0      102.0    15.262     109.76                10.0   \n",
       "20286    82.000000    4.0     2241.0    15.215      98.84                 4.0   \n",
       "311631   77.180199    0.0        0.0    16.556     114.00                 0.0   \n",
       "123976   83.888840    0.0        0.0     9.714     418.17                 0.0   \n",
       "\n",
       "        n_clicks  km_labels  \n",
       "108812         0          2  \n",
       "314264         0          9  \n",
       "102145         6          3  \n",
       "13163          0          3  \n",
       "199435         0         10  \n",
       "...          ...        ...  \n",
       "288021         0          3  \n",
       "48610         38          3  \n",
       "20286        118          3  \n",
       "311631         0          7  \n",
       "123976         2          9  \n",
       "\n",
       "[3965 rows x 13 columns]"
      ]
     },
     "execution_count": 40,
     "metadata": {
      "tags": []
     },
     "output_type": "execute_result"
    }
   ],
   "source": [
    "imputed2_df['km_labels'] = pd.Series(km.labels_, index=imputed2_df.index)\n",
    "imputed2_df"
   ]
  },
  {
   "cell_type": "code",
   "execution_count": null,
   "metadata": {
    "id": "64AQ_UaUgGkY",
    "outputId": "d83f1413-b491-43a1-c480-19d263747491"
   },
   "outputs": [
    {
     "name": "stdout",
     "output_type": "stream",
     "text": [
      "<class 'pandas.core.frame.DataFrame'>\n",
      "Int64Index: 3963 entries, 108812 to 123976\n",
      "Data columns (total 12 columns):\n",
      " #   Column              Non-Null Count  Dtype  \n",
      "---  ------              --------------  -----  \n",
      " 0   hotel_id            3963 non-null   float64\n",
      " 1   city_id             3963 non-null   float64\n",
      " 2   content_score       3963 non-null   float64\n",
      " 3   n_images            3963 non-null   float64\n",
      " 4   distance_to_center  3963 non-null   float64\n",
      " 5   avg_rating          3963 non-null   float64\n",
      " 6   stars               3963 non-null   float64\n",
      " 7   n_reviews           3963 non-null   float64\n",
      " 8   avg_rank            3963 non-null   float64\n",
      " 9   avg_price           3963 non-null   float64\n",
      " 10  avg_saving_percent  3963 non-null   float64\n",
      " 11  n_clicks            3963 non-null   int64  \n",
      "dtypes: float64(11), int64(1)\n",
      "memory usage: 402.5 KB\n"
     ]
    },
    {
     "data": {
      "text/html": [
       "<div>\n",
       "<style scoped>\n",
       "    .dataframe tbody tr th:only-of-type {\n",
       "        vertical-align: middle;\n",
       "    }\n",
       "\n",
       "    .dataframe tbody tr th {\n",
       "        vertical-align: top;\n",
       "    }\n",
       "\n",
       "    .dataframe thead th {\n",
       "        text-align: right;\n",
       "    }\n",
       "</style>\n",
       "<table border=\"1\" class=\"dataframe\">\n",
       "  <thead>\n",
       "    <tr style=\"text-align: right;\">\n",
       "      <th></th>\n",
       "      <th>hotel_id</th>\n",
       "      <th>city_id</th>\n",
       "      <th>content_score</th>\n",
       "      <th>n_images</th>\n",
       "      <th>distance_to_center</th>\n",
       "      <th>avg_rating</th>\n",
       "      <th>stars</th>\n",
       "      <th>n_reviews</th>\n",
       "      <th>avg_rank</th>\n",
       "      <th>avg_price</th>\n",
       "      <th>avg_saving_percent</th>\n",
       "      <th>n_clicks</th>\n",
       "    </tr>\n",
       "  </thead>\n",
       "  <tbody>\n",
       "    <tr>\n",
       "      <th>count</th>\n",
       "      <td>3.963000e+03</td>\n",
       "      <td>3963.000000</td>\n",
       "      <td>3963.000000</td>\n",
       "      <td>3963.000000</td>\n",
       "      <td>3.963000e+03</td>\n",
       "      <td>3963.000000</td>\n",
       "      <td>3963.000000</td>\n",
       "      <td>3963.000000</td>\n",
       "      <td>3963.000000</td>\n",
       "      <td>3963.000000</td>\n",
       "      <td>3963.000000</td>\n",
       "      <td>3963.000000</td>\n",
       "    </tr>\n",
       "    <tr>\n",
       "      <th>mean</th>\n",
       "      <td>1.313308e+11</td>\n",
       "      <td>149768.124148</td>\n",
       "      <td>51.227353</td>\n",
       "      <td>52.797376</td>\n",
       "      <td>1.037735e+04</td>\n",
       "      <td>80.982066</td>\n",
       "      <td>1.203634</td>\n",
       "      <td>946.228615</td>\n",
       "      <td>14.730032</td>\n",
       "      <td>109.329001</td>\n",
       "      <td>7.386071</td>\n",
       "      <td>14.314408</td>\n",
       "    </tr>\n",
       "    <tr>\n",
       "      <th>std</th>\n",
       "      <td>1.041411e+11</td>\n",
       "      <td>221315.739578</td>\n",
       "      <td>11.559823</td>\n",
       "      <td>2410.865417</td>\n",
       "      <td>1.102728e+05</td>\n",
       "      <td>5.401760</td>\n",
       "      <td>1.648020</td>\n",
       "      <td>2186.498364</td>\n",
       "      <td>5.785231</td>\n",
       "      <td>125.181807</td>\n",
       "      <td>13.358465</td>\n",
       "      <td>127.481365</td>\n",
       "    </tr>\n",
       "    <tr>\n",
       "      <th>min</th>\n",
       "      <td>1.597837e+08</td>\n",
       "      <td>1476.000000</td>\n",
       "      <td>7.000000</td>\n",
       "      <td>-1.000000</td>\n",
       "      <td>0.000000e+00</td>\n",
       "      <td>51.000000</td>\n",
       "      <td>0.000000</td>\n",
       "      <td>0.000000</td>\n",
       "      <td>1.000000</td>\n",
       "      <td>4.170000</td>\n",
       "      <td>0.000000</td>\n",
       "      <td>0.000000</td>\n",
       "    </tr>\n",
       "    <tr>\n",
       "      <th>25%</th>\n",
       "      <td>3.855664e+10</td>\n",
       "      <td>32194.000000</td>\n",
       "      <td>45.000000</td>\n",
       "      <td>0.000000</td>\n",
       "      <td>5.360000e+02</td>\n",
       "      <td>77.180199</td>\n",
       "      <td>0.000000</td>\n",
       "      <td>0.000000</td>\n",
       "      <td>11.118000</td>\n",
       "      <td>52.000000</td>\n",
       "      <td>0.000000</td>\n",
       "      <td>0.000000</td>\n",
       "    </tr>\n",
       "    <tr>\n",
       "      <th>50%</th>\n",
       "      <td>1.084271e+11</td>\n",
       "      <td>55122.000000</td>\n",
       "      <td>53.000000</td>\n",
       "      <td>1.000000</td>\n",
       "      <td>1.454000e+03</td>\n",
       "      <td>81.328734</td>\n",
       "      <td>0.000000</td>\n",
       "      <td>186.000000</td>\n",
       "      <td>15.000000</td>\n",
       "      <td>78.790000</td>\n",
       "      <td>0.000000</td>\n",
       "      <td>0.000000</td>\n",
       "    </tr>\n",
       "    <tr>\n",
       "      <th>75%</th>\n",
       "      <td>2.265132e+11</td>\n",
       "      <td>137466.000000</td>\n",
       "      <td>60.000000</td>\n",
       "      <td>2.000000</td>\n",
       "      <td>3.918000e+03</td>\n",
       "      <td>84.000000</td>\n",
       "      <td>3.000000</td>\n",
       "      <td>831.000000</td>\n",
       "      <td>18.375000</td>\n",
       "      <td>121.790000</td>\n",
       "      <td>10.000000</td>\n",
       "      <td>2.000000</td>\n",
       "    </tr>\n",
       "    <tr>\n",
       "      <th>max</th>\n",
       "      <td>3.227965e+11</td>\n",
       "      <td>878516.000000</td>\n",
       "      <td>78.000000</td>\n",
       "      <td>140340.000000</td>\n",
       "      <td>5.112625e+06</td>\n",
       "      <td>96.000000</td>\n",
       "      <td>5.000000</td>\n",
       "      <td>41181.000000</td>\n",
       "      <td>94.000000</td>\n",
       "      <td>1962.040000</td>\n",
       "      <td>99.000000</td>\n",
       "      <td>6486.000000</td>\n",
       "    </tr>\n",
       "  </tbody>\n",
       "</table>\n",
       "</div>"
      ],
      "text/plain": [
       "           hotel_id        city_id  content_score       n_images  \\\n",
       "count  3.963000e+03    3963.000000    3963.000000    3963.000000   \n",
       "mean   1.313308e+11  149768.124148      51.227353      52.797376   \n",
       "std    1.041411e+11  221315.739578      11.559823    2410.865417   \n",
       "min    1.597837e+08    1476.000000       7.000000      -1.000000   \n",
       "25%    3.855664e+10   32194.000000      45.000000       0.000000   \n",
       "50%    1.084271e+11   55122.000000      53.000000       1.000000   \n",
       "75%    2.265132e+11  137466.000000      60.000000       2.000000   \n",
       "max    3.227965e+11  878516.000000      78.000000  140340.000000   \n",
       "\n",
       "       distance_to_center   avg_rating        stars     n_reviews  \\\n",
       "count        3.963000e+03  3963.000000  3963.000000   3963.000000   \n",
       "mean         1.037735e+04    80.982066     1.203634    946.228615   \n",
       "std          1.102728e+05     5.401760     1.648020   2186.498364   \n",
       "min          0.000000e+00    51.000000     0.000000      0.000000   \n",
       "25%          5.360000e+02    77.180199     0.000000      0.000000   \n",
       "50%          1.454000e+03    81.328734     0.000000    186.000000   \n",
       "75%          3.918000e+03    84.000000     3.000000    831.000000   \n",
       "max          5.112625e+06    96.000000     5.000000  41181.000000   \n",
       "\n",
       "          avg_rank    avg_price  avg_saving_percent     n_clicks  \n",
       "count  3963.000000  3963.000000         3963.000000  3963.000000  \n",
       "mean     14.730032   109.329001            7.386071    14.314408  \n",
       "std       5.785231   125.181807           13.358465   127.481365  \n",
       "min       1.000000     4.170000            0.000000     0.000000  \n",
       "25%      11.118000    52.000000            0.000000     0.000000  \n",
       "50%      15.000000    78.790000            0.000000     0.000000  \n",
       "75%      18.375000   121.790000           10.000000     2.000000  \n",
       "max      94.000000  1962.040000           99.000000  6486.000000  "
      ]
     },
     "execution_count": 41,
     "metadata": {
      "tags": []
     },
     "output_type": "execute_result"
    }
   ],
   "source": [
    "y = km.labels_\n",
    "fig, ax = plt.subplots()\n",
    "\n",
    "groups = pd.DataFrame(X_tsne, columns=['x', 'y']).assign(category=y).groupby('category')\n",
    "for name, points in groups:\n",
    "    ax.scatter(points.x, points.y, label=name);\n",
    "\n",
    "ax.legend(loc='center left', bbox_to_anchor=(1, 0.5))y = km.labels_\n",
    "fig, ax = plt.subplots()\n",
    "\n",
    "groups = pd.DataFrame(X_tsne, columns=['x', 'y']).assign(category=y).groupby('category')\n",
    "for name, points in groups:\n",
    "    ax.scatter(points.x, points.y, label=name);\n",
    "\n",
    "ax.legend(loc='center left', bbox_to_anchor=(1, 0.5))outlier_df = imputed2_df[~imputed2_df['km_labels'].isin([2, 8])]\n",
    "outlier_df.drop('km_labels', axis='columns', inplace=True)\n",
    "outlier_df.info()\n",
    "outlier_df.describe()"
   ]
  },
  {
   "cell_type": "markdown",
   "metadata": {
    "id": "9hGIyY3igGku"
   },
   "source": [
    "# Feature Engineering"
   ]
  },
  {
   "cell_type": "markdown",
   "metadata": {},
   "source": [
    "## Feature Transformation "
   ]
  },
  {
   "cell_type": "code",
   "execution_count": 32,
   "metadata": {
    "id": "yKAxXTuhgGk8"
   },
   "outputs": [],
   "source": [
    "imputed2_df = imputed_df\n",
    "outlier_df = imputed2_df"
   ]
  },
  {
   "cell_type": "code",
   "execution_count": 33,
   "metadata": {
    "colab": {
     "base_uri": "https://localhost:8080/"
    },
    "id": "lxTujrYTgGlF",
    "outputId": "30e296d1-2571-4ffd-fc69-433d3d631e38"
   },
   "outputs": [
    {
     "data": {
      "text/plain": [
       "hotel_id              False\n",
       "city_id               False\n",
       "content_score         False\n",
       "n_images               True\n",
       "distance_to_center     True\n",
       "avg_rating            False\n",
       "stars                  True\n",
       "n_reviews              True\n",
       "avg_rank              False\n",
       "avg_price             False\n",
       "avg_saving_percent     True\n",
       "n_clicks               True\n",
       "dtype: bool"
      ]
     },
     "execution_count": 33,
     "metadata": {
      "tags": []
     },
     "output_type": "execute_result"
    }
   ],
   "source": [
    "# detect wether any column has zeros\n",
    "zero_test = (outlier_df == 0).any()\n",
    "zero_test"
   ]
  },
  {
   "cell_type": "code",
   "execution_count": 34,
   "metadata": {
    "id": "epKCknUpgGlR"
   },
   "outputs": [],
   "source": [
    "# transform each column with suitable transformation function \n",
    "transformation_dict = {'hotel_id': lambda x: x**1,\n",
    "                       'city_id': lambda x: x**1, \n",
    "                       'content_score': lambda x: x**3,\n",
    "                       'n_images': lambda x: np.log(x+2),\n",
    "                       'distance_to_center': lambda x: np.log(x+1),\n",
    "                       'avg_rating': lambda x: x**5,\n",
    "                       'stars': lambda x: np.log(x+100),\n",
    "                       'n_reviews': lambda x: np.log(x+1),\n",
    "                       'avg_rank': lambda x: x**1,\n",
    "                       'avg_price': lambda x: np.log(x+1),\n",
    "                       'avg_saving_percent': lambda x:np.log(x+1),\n",
    "                       'n_clicks': lambda x: np.log(x+1)}\n",
    "transformed_df = outlier_df.transform(transformation_dict, axis='index')"
   ]
  },
  {
   "cell_type": "code",
   "execution_count": 35,
   "metadata": {
    "colab": {
     "base_uri": "https://localhost:8080/",
     "height": 304
    },
    "id": "-25GEoGtgGlh",
    "outputId": "2b3a7a46-1e21-403c-c60f-5274c9d9d260",
    "scrolled": true
   },
   "outputs": [
    {
     "data": {
      "text/html": [
       "<div>\n",
       "<style scoped>\n",
       "    .dataframe tbody tr th:only-of-type {\n",
       "        vertical-align: middle;\n",
       "    }\n",
       "\n",
       "    .dataframe tbody tr th {\n",
       "        vertical-align: top;\n",
       "    }\n",
       "\n",
       "    .dataframe thead th {\n",
       "        text-align: right;\n",
       "    }\n",
       "</style>\n",
       "<table border=\"1\" class=\"dataframe\">\n",
       "  <thead>\n",
       "    <tr style=\"text-align: right;\">\n",
       "      <th></th>\n",
       "      <th>hotel_id</th>\n",
       "      <th>city_id</th>\n",
       "      <th>content_score</th>\n",
       "      <th>n_images</th>\n",
       "      <th>distance_to_center</th>\n",
       "      <th>avg_rating</th>\n",
       "      <th>stars</th>\n",
       "      <th>n_reviews</th>\n",
       "      <th>avg_rank</th>\n",
       "      <th>avg_price</th>\n",
       "      <th>avg_saving_percent</th>\n",
       "      <th>n_clicks</th>\n",
       "    </tr>\n",
       "  </thead>\n",
       "  <tbody>\n",
       "    <tr>\n",
       "      <th>count</th>\n",
       "      <td>3.964870e+05</td>\n",
       "      <td>396487.000000</td>\n",
       "      <td>396487.000000</td>\n",
       "      <td>396487.000000</td>\n",
       "      <td>396487.000000</td>\n",
       "      <td>3.964870e+05</td>\n",
       "      <td>396487.000000</td>\n",
       "      <td>396487.000000</td>\n",
       "      <td>396487.000000</td>\n",
       "      <td>396487.000000</td>\n",
       "      <td>396487.000000</td>\n",
       "      <td>396487.000000</td>\n",
       "    </tr>\n",
       "    <tr>\n",
       "      <th>mean</th>\n",
       "      <td>1.326304e+11</td>\n",
       "      <td>149072.936066</td>\n",
       "      <td>151281.061059</td>\n",
       "      <td>1.090518</td>\n",
       "      <td>7.090329</td>\n",
       "      <td>3.765751e+09</td>\n",
       "      <td>4.616557</td>\n",
       "      <td>4.447177</td>\n",
       "      <td>14.694502</td>\n",
       "      <td>4.386544</td>\n",
       "      <td>1.029541</td>\n",
       "      <td>0.771865</td>\n",
       "    </tr>\n",
       "    <tr>\n",
       "      <th>std</th>\n",
       "      <td>1.033722e+11</td>\n",
       "      <td>219074.667559</td>\n",
       "      <td>77793.440310</td>\n",
       "      <td>0.551837</td>\n",
       "      <td>2.192110</td>\n",
       "      <td>1.073809e+09</td>\n",
       "      <td>0.015897</td>\n",
       "      <td>2.983428</td>\n",
       "      <td>5.604578</td>\n",
       "      <td>0.744729</td>\n",
       "      <td>1.392136</td>\n",
       "      <td>1.314637</td>\n",
       "    </tr>\n",
       "    <tr>\n",
       "      <th>min</th>\n",
       "      <td>1.557962e+08</td>\n",
       "      <td>2.000000</td>\n",
       "      <td>343.000000</td>\n",
       "      <td>0.000000</td>\n",
       "      <td>0.000000</td>\n",
       "      <td>4.543542e+07</td>\n",
       "      <td>4.605170</td>\n",
       "      <td>0.000000</td>\n",
       "      <td>1.000000</td>\n",
       "      <td>1.609438</td>\n",
       "      <td>0.000000</td>\n",
       "      <td>0.000000</td>\n",
       "    </tr>\n",
       "    <tr>\n",
       "      <th>25%</th>\n",
       "      <td>4.062255e+10</td>\n",
       "      <td>32080.000000</td>\n",
       "      <td>91125.000000</td>\n",
       "      <td>0.693147</td>\n",
       "      <td>6.302619</td>\n",
       "      <td>3.133967e+09</td>\n",
       "      <td>4.605170</td>\n",
       "      <td>0.000000</td>\n",
       "      <td>11.091000</td>\n",
       "      <td>3.952397</td>\n",
       "      <td>0.000000</td>\n",
       "      <td>0.000000</td>\n",
       "    </tr>\n",
       "    <tr>\n",
       "      <th>50%</th>\n",
       "      <td>1.087280e+11</td>\n",
       "      <td>55122.000000</td>\n",
       "      <td>148877.000000</td>\n",
       "      <td>1.098612</td>\n",
       "      <td>7.324490</td>\n",
       "      <td>3.846382e+09</td>\n",
       "      <td>4.605170</td>\n",
       "      <td>5.247024</td>\n",
       "      <td>15.000000</td>\n",
       "      <td>4.365008</td>\n",
       "      <td>0.000000</td>\n",
       "      <td>0.000000</td>\n",
       "    </tr>\n",
       "    <tr>\n",
       "      <th>75%</th>\n",
       "      <td>2.281935e+11</td>\n",
       "      <td>137456.000000</td>\n",
       "      <td>205379.000000</td>\n",
       "      <td>1.386294</td>\n",
       "      <td>8.333030</td>\n",
       "      <td>4.437053e+09</td>\n",
       "      <td>4.634729</td>\n",
       "      <td>6.656727</td>\n",
       "      <td>18.375000</td>\n",
       "      <td>4.803283</td>\n",
       "      <td>2.397895</td>\n",
       "      <td>1.098612</td>\n",
       "    </tr>\n",
       "    <tr>\n",
       "      <th>max</th>\n",
       "      <td>3.237114e+11</td>\n",
       "      <td>878736.000000</td>\n",
       "      <td>531441.000000</td>\n",
       "      <td>14.688440</td>\n",
       "      <td>16.724680</td>\n",
       "      <td>8.587340e+09</td>\n",
       "      <td>4.653960</td>\n",
       "      <td>12.553520</td>\n",
       "      <td>100.000000</td>\n",
       "      <td>8.987322</td>\n",
       "      <td>4.605170</td>\n",
       "      <td>9.528285</td>\n",
       "    </tr>\n",
       "  </tbody>\n",
       "</table>\n",
       "</div>"
      ],
      "text/plain": [
       "           hotel_id        city_id  ...  avg_saving_percent       n_clicks\n",
       "count  3.964870e+05  396487.000000  ...       396487.000000  396487.000000\n",
       "mean   1.326304e+11  149072.936066  ...            1.029541       0.771865\n",
       "std    1.033722e+11  219074.667559  ...            1.392136       1.314637\n",
       "min    1.557962e+08       2.000000  ...            0.000000       0.000000\n",
       "25%    4.062255e+10   32080.000000  ...            0.000000       0.000000\n",
       "50%    1.087280e+11   55122.000000  ...            0.000000       0.000000\n",
       "75%    2.281935e+11  137456.000000  ...            2.397895       1.098612\n",
       "max    3.237114e+11  878736.000000  ...            4.605170       9.528285\n",
       "\n",
       "[8 rows x 12 columns]"
      ]
     },
     "execution_count": 35,
     "metadata": {
      "tags": []
     },
     "output_type": "execute_result"
    }
   ],
   "source": [
    "transformed_df.describe()"
   ]
  },
  {
   "cell_type": "code",
   "execution_count": 36,
   "metadata": {
    "colab": {
     "base_uri": "https://localhost:8080/",
     "height": 310
    },
    "id": "e2H0hmYqgGl4",
    "outputId": "d51d2228-2b2b-4dbb-cdf5-36d6d77991ba"
   },
   "outputs": [
    {
     "data": {
      "image/png": "[encoded data removed]",
      "text/plain": [
       "<Figure size 1440x360 with 1 Axes>"
      ]
     },
     "metadata": {
      "needs_background": "light",
      "tags": []
     },
     "output_type": "display_data"
    }
   ],
   "source": [
    "min_max_dataframe_dist(outlier_df)"
   ]
  },
  {
   "cell_type": "code",
   "execution_count": 37,
   "metadata": {
    "colab": {
     "base_uri": "https://localhost:8080/",
     "height": 310
    },
    "id": "gUKq6b_igGmj",
    "outputId": "c3391ec3-76f1-4789-b389-26c8aebaf3d3",
    "scrolled": false
   },
   "outputs": [
    {
     "data": {
      "image/png": "[encoded data removed]",
      "text/plain": [
       "<Figure size 1440x360 with 1 Axes>"
      ]
     },
     "metadata": {
      "needs_background": "light",
      "tags": []
     },
     "output_type": "display_data"
    }
   ],
   "source": [
    "min_max_dataframe_dist(transformed_df)"
   ]
  },
  {
   "cell_type": "markdown",
   "metadata": {
    "id": "j-EW6oelgGmq"
   },
   "source": [
    "Comparison of two distribution shows that the dataframe after transformation has less skewed distribution."
   ]
  },
  {
   "cell_type": "markdown",
   "metadata": {},
   "source": [
    "## Standard Scaling"
   ]
  },
  {
   "cell_type": "code",
   "execution_count": 41,
   "metadata": {
    "id": "RP9zaDMugGnh"
   },
   "outputs": [],
   "source": [
    "# scale data with standard scaler\n",
    "scaler = StandardScaler()\n",
    "scaled_df = pd.DataFrame(scaler.fit_transform(transformed_df), columns=transformed_df.columns)"
   ]
  },
  {
   "cell_type": "code",
   "execution_count": null,
   "metadata": {},
   "outputs": [],
   "source": [
    "# save the trained scaler\n",
    "dump(scaler, 'scaler.bin', compress=True)"
   ]
  },
  {
   "cell_type": "markdown",
   "metadata": {
    "id": "CgajX_EkgGmt"
   },
   "source": [
    "# Descriptive Analytics "
   ]
  },
  {
   "cell_type": "code",
   "execution_count": 38,
   "metadata": {
    "id": "n6cIZB64gGmu"
   },
   "outputs": [],
   "source": [
    "df = transformed_df"
   ]
  },
  {
   "cell_type": "code",
   "execution_count": 39,
   "metadata": {
    "colab": {
     "base_uri": "https://localhost:8080/",
     "height": 373
    },
    "id": "rgNUnZuMgGmz",
    "outputId": "af6eac24-ed38-4132-8394-b158dede7409",
    "scrolled": true
   },
   "outputs": [
    {
     "data": {
      "text/html": [
       "<div>\n",
       "<style scoped>\n",
       "    .dataframe tbody tr th:only-of-type {\n",
       "        vertical-align: middle;\n",
       "    }\n",
       "\n",
       "    .dataframe tbody tr th {\n",
       "        vertical-align: top;\n",
       "    }\n",
       "\n",
       "    .dataframe thead th {\n",
       "        text-align: right;\n",
       "    }\n",
       "</style>\n",
       "<table border=\"1\" class=\"dataframe\">\n",
       "  <thead>\n",
       "    <tr style=\"text-align: right;\">\n",
       "      <th></th>\n",
       "      <th>feature</th>\n",
       "      <th>abs_corr</th>\n",
       "      <th>corr</th>\n",
       "      <th>p_value</th>\n",
       "    </tr>\n",
       "  </thead>\n",
       "  <tbody>\n",
       "    <tr>\n",
       "      <th>0</th>\n",
       "      <td>avg_saving_percent</td>\n",
       "      <td>0.371748</td>\n",
       "      <td>0.371748</td>\n",
       "      <td>0.000000e+00</td>\n",
       "    </tr>\n",
       "    <tr>\n",
       "      <th>1</th>\n",
       "      <td>n_reviews</td>\n",
       "      <td>0.363980</td>\n",
       "      <td>0.363980</td>\n",
       "      <td>0.000000e+00</td>\n",
       "    </tr>\n",
       "    <tr>\n",
       "      <th>2</th>\n",
       "      <td>stars</td>\n",
       "      <td>0.353494</td>\n",
       "      <td>0.353494</td>\n",
       "      <td>0.000000e+00</td>\n",
       "    </tr>\n",
       "    <tr>\n",
       "      <th>3</th>\n",
       "      <td>content_score</td>\n",
       "      <td>0.350617</td>\n",
       "      <td>0.350617</td>\n",
       "      <td>0.000000e+00</td>\n",
       "    </tr>\n",
       "    <tr>\n",
       "      <th>4</th>\n",
       "      <td>n_images</td>\n",
       "      <td>0.349577</td>\n",
       "      <td>0.349577</td>\n",
       "      <td>0.000000e+00</td>\n",
       "    </tr>\n",
       "    <tr>\n",
       "      <th>5</th>\n",
       "      <td>hotel_id</td>\n",
       "      <td>0.337519</td>\n",
       "      <td>-0.337519</td>\n",
       "      <td>0.000000e+00</td>\n",
       "    </tr>\n",
       "    <tr>\n",
       "      <th>6</th>\n",
       "      <td>avg_rank</td>\n",
       "      <td>0.231643</td>\n",
       "      <td>-0.231643</td>\n",
       "      <td>0.000000e+00</td>\n",
       "    </tr>\n",
       "    <tr>\n",
       "      <th>7</th>\n",
       "      <td>city_id</td>\n",
       "      <td>0.129412</td>\n",
       "      <td>-0.129412</td>\n",
       "      <td>0.000000e+00</td>\n",
       "    </tr>\n",
       "    <tr>\n",
       "      <th>8</th>\n",
       "      <td>avg_price</td>\n",
       "      <td>0.096767</td>\n",
       "      <td>0.096767</td>\n",
       "      <td>0.000000e+00</td>\n",
       "    </tr>\n",
       "    <tr>\n",
       "      <th>9</th>\n",
       "      <td>distance_to_center</td>\n",
       "      <td>0.013187</td>\n",
       "      <td>0.013187</td>\n",
       "      <td>1.008728e-16</td>\n",
       "    </tr>\n",
       "    <tr>\n",
       "      <th>10</th>\n",
       "      <td>avg_rating</td>\n",
       "      <td>0.003882</td>\n",
       "      <td>-0.003882</td>\n",
       "      <td>1.451070e-02</td>\n",
       "    </tr>\n",
       "  </tbody>\n",
       "</table>\n",
       "</div>"
      ],
      "text/plain": [
       "               feature  abs_corr      corr       p_value\n",
       "0   avg_saving_percent  0.371748  0.371748  0.000000e+00\n",
       "1            n_reviews  0.363980  0.363980  0.000000e+00\n",
       "2                stars  0.353494  0.353494  0.000000e+00\n",
       "3        content_score  0.350617  0.350617  0.000000e+00\n",
       "4             n_images  0.349577  0.349577  0.000000e+00\n",
       "5             hotel_id  0.337519 -0.337519  0.000000e+00\n",
       "6             avg_rank  0.231643 -0.231643  0.000000e+00\n",
       "7              city_id  0.129412 -0.129412  0.000000e+00\n",
       "8            avg_price  0.096767  0.096767  0.000000e+00\n",
       "9   distance_to_center  0.013187  0.013187  1.008728e-16\n",
       "10          avg_rating  0.003882 -0.003882  1.451070e-02"
      ]
     },
     "execution_count": 39,
     "metadata": {
      "tags": []
     },
     "output_type": "execute_result"
    }
   ],
   "source": [
    "# statistical significance of correlations\n",
    "from scipy import stats\n",
    "corr_array=[]\n",
    "for i in range(df.shape[1]-1):  \n",
    "    corr_array.append([df.columns[i], \n",
    "    np.abs(stats.pearsonr(df[df.columns[i]], df[df.columns[-1]])[0]),\n",
    "    stats.pearsonr(df[df.columns[i]], df[df.columns[-1]])[0],\n",
    "    stats.pearsonr(df[df.columns[i]], df[df.columns[-1]])[1]])\n",
    "    \n",
    "corr_df = pd.DataFrame(corr_array, columns = ['feature', 'abs_corr', 'corr', 'p_value'])\n",
    "corr_df.sort_values(by = 'abs_corr', ascending = False, inplace = True)\n",
    "corr_df.reset_index(drop = True, inplace = True)\n",
    "corr_df"
   ]
  },
  {
   "cell_type": "markdown",
   "metadata": {
    "id": "Di2SMB_QgGm3"
   },
   "source": [
    "## Statistical Analysis"
   ]
  },
  {
   "cell_type": "code",
   "execution_count": 40,
   "metadata": {
    "id": "KQsdmmZ1gGnC"
   },
   "outputs": [],
   "source": [
    "def OLS(df):\n",
    "    # seperate target from features\n",
    "    X = df[df.columns[:-1]]\n",
    "    y = df[df.columns[-1]]\n",
    "\n",
    "    # fit OLS function and display results\n",
    "    X_withconstant = sm.add_constant(X)\n",
    "    lr = sm.OLS(y, X_withconstant).fit()\n",
    "    display(lr.summary().tables[0])"
   ]
  },
  {
   "cell_type": "code",
   "execution_count": 42,
   "metadata": {
    "colab": {
     "base_uri": "https://localhost:8080/",
     "height": 0
    },
    "id": "rtIQh81PgGnn",
    "outputId": "c97e4f39-8c3c-4a09-8c51-fcfac9c5b420"
   },
   "outputs": [
    {
     "data": {
      "text/html": [
       "<table class=\"simpletable\">\n",
       "<caption>OLS Regression Results</caption>\n",
       "<tr>\n",
       "  <th>Dep. Variable:</th>        <td>n_clicks</td>     <th>  R-squared:         </th>  <td>   0.250</td>  \n",
       "</tr>\n",
       "<tr>\n",
       "  <th>Model:</th>                   <td>OLS</td>       <th>  Adj. R-squared:    </th>  <td>   0.250</td>  \n",
       "</tr>\n",
       "<tr>\n",
       "  <th>Method:</th>             <td>Least Squares</td>  <th>  F-statistic:       </th>  <td>1.202e+04</td> \n",
       "</tr>\n",
       "<tr>\n",
       "  <th>Date:</th>             <td>Thu, 12 Nov 2020</td> <th>  Prob (F-statistic):</th>   <td>  0.00</td>   \n",
       "</tr>\n",
       "<tr>\n",
       "  <th>Time:</th>                 <td>18:20:03</td>     <th>  Log-Likelihood:    </th> <td>-5.0555e+05</td>\n",
       "</tr>\n",
       "<tr>\n",
       "  <th>No. Observations:</th>      <td>396487</td>      <th>  AIC:               </th>  <td>1.011e+06</td> \n",
       "</tr>\n",
       "<tr>\n",
       "  <th>Df Residuals:</th>          <td>396475</td>      <th>  BIC:               </th>  <td>1.011e+06</td> \n",
       "</tr>\n",
       "<tr>\n",
       "  <th>Df Model:</th>              <td>    11</td>      <th>                     </th>      <td> </td>     \n",
       "</tr>\n",
       "<tr>\n",
       "  <th>Covariance Type:</th>      <td>nonrobust</td>    <th>                     </th>      <td> </td>     \n",
       "</tr>\n",
       "</table>"
      ],
      "text/plain": [
       "<class 'statsmodels.iolib.table.SimpleTable'>"
      ]
     },
     "metadata": {
      "tags": []
     },
     "output_type": "display_data"
    }
   ],
   "source": [
    "OLS(scaled_df)"
   ]
  },
  {
   "cell_type": "code",
   "execution_count": 43,
   "metadata": {
    "colab": {
     "base_uri": "https://localhost:8080/",
     "height": 0
    },
    "id": "iGUt633DgGn6",
    "outputId": "a56f7a26-a595-4455-c427-0b25b7ca35e6"
   },
   "outputs": [
    {
     "data": {
      "text/html": [
       "<table class=\"simpletable\">\n",
       "<caption>OLS Regression Results</caption>\n",
       "<tr>\n",
       "  <th>Dep. Variable:</th>        <td>n_clicks</td>     <th>  R-squared:         </th>  <td>   0.250</td>  \n",
       "</tr>\n",
       "<tr>\n",
       "  <th>Model:</th>                   <td>OLS</td>       <th>  Adj. R-squared:    </th>  <td>   0.250</td>  \n",
       "</tr>\n",
       "<tr>\n",
       "  <th>Method:</th>             <td>Least Squares</td>  <th>  F-statistic:       </th>  <td>1.202e+04</td> \n",
       "</tr>\n",
       "<tr>\n",
       "  <th>Date:</th>             <td>Thu, 12 Nov 2020</td> <th>  Prob (F-statistic):</th>   <td>  0.00</td>   \n",
       "</tr>\n",
       "<tr>\n",
       "  <th>Time:</th>                 <td>18:20:03</td>     <th>  Log-Likelihood:    </th> <td>-5.0555e+05</td>\n",
       "</tr>\n",
       "<tr>\n",
       "  <th>No. Observations:</th>      <td>396487</td>      <th>  AIC:               </th>  <td>1.011e+06</td> \n",
       "</tr>\n",
       "<tr>\n",
       "  <th>Df Residuals:</th>          <td>396475</td>      <th>  BIC:               </th>  <td>1.011e+06</td> \n",
       "</tr>\n",
       "<tr>\n",
       "  <th>Df Model:</th>              <td>    11</td>      <th>                     </th>      <td> </td>     \n",
       "</tr>\n",
       "<tr>\n",
       "  <th>Covariance Type:</th>      <td>nonrobust</td>    <th>                     </th>      <td> </td>     \n",
       "</tr>\n",
       "</table>"
      ],
      "text/plain": [
       "<class 'statsmodels.iolib.table.SimpleTable'>"
      ]
     },
     "metadata": {
      "tags": []
     },
     "output_type": "display_data"
    }
   ],
   "source": [
    "OLS(scaled_df)"
   ]
  },
  {
   "cell_type": "code",
   "execution_count": 44,
   "metadata": {
    "colab": {
     "base_uri": "https://localhost:8080/",
     "height": 0
    },
    "id": "AGZyndpugGoF",
    "outputId": "0b649efa-577f-4b9f-a964-14cbe849c7ca",
    "scrolled": true
   },
   "outputs": [
    {
     "data": {
      "text/html": [
       "<table class=\"simpletable\">\n",
       "<caption>OLS Regression Results</caption>\n",
       "<tr>\n",
       "  <th>Dep. Variable:</th>        <td>n_clicks</td>     <th>  R-squared:         </th>  <td>   0.250</td>  \n",
       "</tr>\n",
       "<tr>\n",
       "  <th>Model:</th>                   <td>OLS</td>       <th>  Adj. R-squared:    </th>  <td>   0.250</td>  \n",
       "</tr>\n",
       "<tr>\n",
       "  <th>Method:</th>             <td>Least Squares</td>  <th>  F-statistic:       </th>  <td>1.202e+04</td> \n",
       "</tr>\n",
       "<tr>\n",
       "  <th>Date:</th>             <td>Thu, 12 Nov 2020</td> <th>  Prob (F-statistic):</th>   <td>  0.00</td>   \n",
       "</tr>\n",
       "<tr>\n",
       "  <th>Time:</th>                 <td>18:20:04</td>     <th>  Log-Likelihood:    </th> <td>-6.1402e+05</td>\n",
       "</tr>\n",
       "<tr>\n",
       "  <th>No. Observations:</th>      <td>396487</td>      <th>  AIC:               </th>  <td>1.228e+06</td> \n",
       "</tr>\n",
       "<tr>\n",
       "  <th>Df Residuals:</th>          <td>396475</td>      <th>  BIC:               </th>  <td>1.228e+06</td> \n",
       "</tr>\n",
       "<tr>\n",
       "  <th>Df Model:</th>              <td>    11</td>      <th>                     </th>      <td> </td>     \n",
       "</tr>\n",
       "<tr>\n",
       "  <th>Covariance Type:</th>      <td>nonrobust</td>    <th>                     </th>      <td> </td>     \n",
       "</tr>\n",
       "</table>"
      ],
      "text/plain": [
       "<class 'statsmodels.iolib.table.SimpleTable'>"
      ]
     },
     "metadata": {
      "tags": []
     },
     "output_type": "display_data"
    }
   ],
   "source": [
    "OLS(transformed_df)"
   ]
  },
  {
   "cell_type": "code",
   "execution_count": 45,
   "metadata": {
    "colab": {
     "base_uri": "https://localhost:8080/",
     "height": 0
    },
    "id": "SsS1IUClgGod",
    "outputId": "7681ef61-a8dc-446c-985a-2f06f3857073",
    "scrolled": true
   },
   "outputs": [
    {
     "data": {
      "text/html": [
       "<table class=\"simpletable\">\n",
       "<caption>OLS Regression Results</caption>\n",
       "<tr>\n",
       "  <th>Dep. Variable:</th>        <td>n_clicks</td>     <th>  R-squared:         </th>  <td>   0.056</td>  \n",
       "</tr>\n",
       "<tr>\n",
       "  <th>Model:</th>                   <td>OLS</td>       <th>  Adj. R-squared:    </th>  <td>   0.055</td>  \n",
       "</tr>\n",
       "<tr>\n",
       "  <th>Method:</th>             <td>Least Squares</td>  <th>  F-statistic:       </th>  <td>   2118.</td>  \n",
       "</tr>\n",
       "<tr>\n",
       "  <th>Date:</th>             <td>Thu, 12 Nov 2020</td> <th>  Prob (F-statistic):</th>   <td>  0.00</td>   \n",
       "</tr>\n",
       "<tr>\n",
       "  <th>Time:</th>                 <td>18:20:04</td>     <th>  Log-Likelihood:    </th> <td>-2.4611e+06</td>\n",
       "</tr>\n",
       "<tr>\n",
       "  <th>No. Observations:</th>      <td>396487</td>      <th>  AIC:               </th>  <td>4.922e+06</td> \n",
       "</tr>\n",
       "<tr>\n",
       "  <th>Df Residuals:</th>          <td>396475</td>      <th>  BIC:               </th>  <td>4.922e+06</td> \n",
       "</tr>\n",
       "<tr>\n",
       "  <th>Df Model:</th>              <td>    11</td>      <th>                     </th>      <td> </td>     \n",
       "</tr>\n",
       "<tr>\n",
       "  <th>Covariance Type:</th>      <td>nonrobust</td>    <th>                     </th>      <td> </td>     \n",
       "</tr>\n",
       "</table>"
      ],
      "text/plain": [
       "<class 'statsmodels.iolib.table.SimpleTable'>"
      ]
     },
     "metadata": {
      "tags": []
     },
     "output_type": "display_data"
    }
   ],
   "source": [
    "OLS(outlier_df)"
   ]
  },
  {
   "cell_type": "markdown",
   "metadata": {
    "id": "FfiGvTmSgGoo"
   },
   "source": [
    "The above result suggest that both transformations and standard scaler increase model accuracy. The effect of transformations are more significant than standard scaler. Through transformations the `R-squared` metric has improved from 0.055 to 0.285 while standard scaler does not have any effect on this metric. Through standard scaler log-liklihood, AIC, and BIC have improved slightly."
   ]
  },
  {
   "cell_type": "markdown",
   "metadata": {
    "id": "KR8oTzHDgGop"
   },
   "source": [
    "## Feature Selection"
   ]
  },
  {
   "cell_type": "code",
   "execution_count": 46,
   "metadata": {
    "id": "8qu3EghIgGor"
   },
   "outputs": [],
   "source": [
    "def OLS_VIF(df):\n",
    "    # seperate target from features\n",
    "    X = df[df.columns[:-1]]\n",
    "    y = df[df.columns[-1]]\n",
    "\n",
    "    # fit OLS function and display results\n",
    "    X_withconstant = sm.add_constant(X)\n",
    "    lr = sm.OLS(y, X_withconstant).fit()\n",
    "\n",
    "    # table of significant coefficinets sorted by absolute value\n",
    "    coef_table = lr.summary().tables[1]\n",
    "    #display(coef_table)\n",
    "    coef_df = pd.DataFrame(data=coef_table.data[1:], columns=coef_table.data[0])\n",
    "    coef_df['coef'] = coef_df['coef'].astype(float)\n",
    "    coef_df['P>|t|'] = coef_df['P>|t|'].astype(float)\n",
    "    coef_df['abs_coef'] = np.abs(coef_df['coef'])\n",
    "    coef_df.drop(0, axis='index', inplace=True)\n",
    "    \n",
    "    # variance inflation factors\n",
    "    vif_series = pd.Series([variance_inflation_factor(X.values, i) for i in range(X.shape[1])], index=X.columns)\n",
    "    vif_series.sort_values(ascending=False, inplace=True)\n",
    "    #display(pd.DataFrame(vif_series, columns=['vif']))\n",
    "    \n",
    "    return [coef_df, vif_series]"
   ]
  },
  {
   "cell_type": "code",
   "execution_count": 47,
   "metadata": {
    "id": "spzoSbHWgGpY"
   },
   "outputs": [],
   "source": [
    "old_df = transformed_df\n",
    "[coef_df, vif_series] = OLS_VIF(old_df) "
   ]
  },
  {
   "cell_type": "code",
   "execution_count": 48,
   "metadata": {
    "id": "T2sB74SogGpm"
   },
   "outputs": [],
   "source": [
    "while not coef_df[coef_df['P>|t|'] >= 0.05].empty: # check wether there are any coefficient with p-value > 5%\n",
    "\n",
    "    print(f'Droped \"{vif_series.index[0]}\" column due to {vif_series.values[0]} VIF')\n",
    "    new_df = old_df.drop(vif_series.index[0], axis = 1) # remove the feature with highest VIF\n",
    "    [coef_df, vif_series] = OLS_VIF(new_df)\n",
    "    old_df = new_df\n"
   ]
  },
  {
   "cell_type": "code",
   "execution_count": 49,
   "metadata": {
    "id": "TLbhAkjPgGp9"
   },
   "outputs": [],
   "source": [
    "df = old_df\n",
    "# seperate target from features\n",
    "X = df[df.columns[:-1]]\n",
    "y = df[df.columns[-1]]"
   ]
  },
  {
   "cell_type": "code",
   "execution_count": 50,
   "metadata": {
    "colab": {
     "base_uri": "https://localhost:8080/",
     "height": 0
    },
    "id": "1SbqRTkagGqL",
    "outputId": "3ff2b53d-b22e-408e-d1d1-9725d9e1fb06"
   },
   "outputs": [
    {
     "data": {
      "text/html": [
       "<table class=\"simpletable\">\n",
       "<tr>\n",
       "           <td></td>             <th>coef</th>     <th>std err</th>      <th>t</th>      <th>P>|t|</th>  <th>[0.025</th>    <th>0.975]</th>  \n",
       "</tr>\n",
       "<tr>\n",
       "  <th>const</th>              <td>  -33.6151</td> <td>    0.722</td> <td>  -46.574</td> <td> 0.000</td> <td>  -35.030</td> <td>  -32.200</td>\n",
       "</tr>\n",
       "<tr>\n",
       "  <th>hotel_id</th>           <td> -3.47e-13</td> <td>  3.1e-14</td> <td>  -11.192</td> <td> 0.000</td> <td>-4.08e-13</td> <td>-2.86e-13</td>\n",
       "</tr>\n",
       "<tr>\n",
       "  <th>city_id</th>            <td>-5.471e-07</td> <td> 8.38e-09</td> <td>  -65.295</td> <td> 0.000</td> <td>-5.64e-07</td> <td>-5.31e-07</td>\n",
       "</tr>\n",
       "<tr>\n",
       "  <th>content_score</th>      <td> 4.458e-07</td> <td>  3.9e-08</td> <td>   11.434</td> <td> 0.000</td> <td> 3.69e-07</td> <td> 5.22e-07</td>\n",
       "</tr>\n",
       "<tr>\n",
       "  <th>n_images</th>           <td>    0.3241</td> <td>    0.004</td> <td>   77.710</td> <td> 0.000</td> <td>    0.316</td> <td>    0.332</td>\n",
       "</tr>\n",
       "<tr>\n",
       "  <th>distance_to_center</th> <td>   -0.0271</td> <td>    0.001</td> <td>  -32.110</td> <td> 0.000</td> <td>   -0.029</td> <td>   -0.025</td>\n",
       "</tr>\n",
       "<tr>\n",
       "  <th>avg_rating</th>         <td> 1.017e-11</td> <td> 1.88e-12</td> <td>    5.413</td> <td> 0.000</td> <td> 6.49e-12</td> <td> 1.38e-11</td>\n",
       "</tr>\n",
       "<tr>\n",
       "  <th>stars</th>              <td>    7.3204</td> <td>    0.157</td> <td>   46.669</td> <td> 0.000</td> <td>    7.013</td> <td>    7.628</td>\n",
       "</tr>\n",
       "<tr>\n",
       "  <th>n_reviews</th>          <td>    0.0469</td> <td>    0.001</td> <td>   50.448</td> <td> 0.000</td> <td>    0.045</td> <td>    0.049</td>\n",
       "</tr>\n",
       "<tr>\n",
       "  <th>avg_rank</th>           <td>   -0.0356</td> <td>    0.000</td> <td> -107.880</td> <td> 0.000</td> <td>   -0.036</td> <td>   -0.035</td>\n",
       "</tr>\n",
       "<tr>\n",
       "  <th>avg_price</th>          <td>    0.1393</td> <td>    0.003</td> <td>   53.545</td> <td> 0.000</td> <td>    0.134</td> <td>    0.144</td>\n",
       "</tr>\n",
       "<tr>\n",
       "  <th>avg_saving_percent</th> <td>    0.1524</td> <td>    0.002</td> <td>   89.924</td> <td> 0.000</td> <td>    0.149</td> <td>    0.156</td>\n",
       "</tr>\n",
       "</table>"
      ],
      "text/plain": [
       "<class 'statsmodels.iolib.table.SimpleTable'>"
      ]
     },
     "metadata": {
      "tags": []
     },
     "output_type": "display_data"
    },
    {
     "data": {
      "text/html": [
       "<table class=\"simpletable\">\n",
       "<caption>OLS Regression Results</caption>\n",
       "<tr>\n",
       "  <th>Dep. Variable:</th>        <td>n_clicks</td>     <th>  R-squared:         </th>  <td>   0.250</td>  \n",
       "</tr>\n",
       "<tr>\n",
       "  <th>Model:</th>                   <td>OLS</td>       <th>  Adj. R-squared:    </th>  <td>   0.250</td>  \n",
       "</tr>\n",
       "<tr>\n",
       "  <th>Method:</th>             <td>Least Squares</td>  <th>  F-statistic:       </th>  <td>1.202e+04</td> \n",
       "</tr>\n",
       "<tr>\n",
       "  <th>Date:</th>             <td>Thu, 12 Nov 2020</td> <th>  Prob (F-statistic):</th>   <td>  0.00</td>   \n",
       "</tr>\n",
       "<tr>\n",
       "  <th>Time:</th>                 <td>18:20:09</td>     <th>  Log-Likelihood:    </th> <td>-6.1402e+05</td>\n",
       "</tr>\n",
       "<tr>\n",
       "  <th>No. Observations:</th>      <td>396487</td>      <th>  AIC:               </th>  <td>1.228e+06</td> \n",
       "</tr>\n",
       "<tr>\n",
       "  <th>Df Residuals:</th>          <td>396475</td>      <th>  BIC:               </th>  <td>1.228e+06</td> \n",
       "</tr>\n",
       "<tr>\n",
       "  <th>Df Model:</th>              <td>    11</td>      <th>                     </th>      <td> </td>     \n",
       "</tr>\n",
       "<tr>\n",
       "  <th>Covariance Type:</th>      <td>nonrobust</td>    <th>                     </th>      <td> </td>     \n",
       "</tr>\n",
       "</table>"
      ],
      "text/plain": [
       "<class 'statsmodels.iolib.table.SimpleTable'>"
      ]
     },
     "metadata": {
      "tags": []
     },
     "output_type": "display_data"
    },
    {
     "data": {
      "image/png": "[encoded data removed]",
      "text/plain": [
       "<Figure size 432x288 with 1 Axes>"
      ]
     },
     "metadata": {
      "needs_background": "light",
      "tags": []
     },
     "output_type": "display_data"
    }
   ],
   "source": [
    "# fit OLS function and display results\n",
    "import statsmodels.api as sm\n",
    "X_withconstant = sm.add_constant(X)\n",
    "lr = sm.OLS(y, X_withconstant).fit()\n",
    "display(lr.summary().tables[1])\n",
    "display(lr.summary().tables[0])\n",
    "\n",
    "# table of significant coefficinets sorted by absolute value\n",
    "coef_table = lr.summary().tables[1]\n",
    "coef_df = pd.DataFrame(data=coef_table.data[1:], columns=coef_table.data[0])\n",
    "coef_df['coef'] = coef_df['coef'].astype(float)\n",
    "coef_df['P>|t|'] = coef_df['P>|t|'].astype(float)\n",
    "coef_df['abs_coef'] = np.abs(coef_df['coef'])\n",
    "coef_df.drop(0, axis='index', inplace=True)\n",
    "coefs_by_mag = coef_df.sort_values(by='abs_coef', ascending=False)\n",
    "coefs_by_mag = coefs_by_mag[coefs_by_mag['P>|t|'] <= 0.05]\n",
    "\n",
    "# bar chart of feature coefficients\n",
    "import matplotlib.pyplot as plt\n",
    "plt.barh(coefs_by_mag[''], coefs_by_mag['coef'], color=np.where(coefs_by_mag['coef']>0, 'blue', 'red'))\n",
    "plt.xlabel('normalized coefficient');"
   ]
  },
  {
   "cell_type": "markdown",
   "metadata": {
    "id": "kvfWSpJGgGqW"
   },
   "source": [
    "The insights are compatible with intution. The more stars, saving, or price a hotel has the more clicks it gets while on the other hand the further it is in the ranking or distance from city center the less clicks"
   ]
  },
  {
   "cell_type": "code",
   "execution_count": 51,
   "metadata": {
    "colab": {
     "base_uri": "https://localhost:8080/",
     "height": 0
    },
    "id": "tZSZCwqmgGqX",
    "outputId": "50a7ee5c-dc4b-4ee0-8c95-f8bbb85bcbc1"
   },
   "outputs": [
    {
     "data": {
      "image/png": "[encoded data removed]",
      "text/plain": [
       "<Figure size 432x288 with 1 Axes>"
      ]
     },
     "metadata": {
      "needs_background": "light",
      "tags": []
     },
     "output_type": "display_data"
    }
   ],
   "source": [
    "# least squares residuals\n",
    "lr.resid.hist(bins=20)\n",
    "plt.xlabel('residual')\n",
    "plt.ylabel('count');"
   ]
  },
  {
   "cell_type": "markdown",
   "metadata": {
    "id": "UfsKTxBGgGqd"
   },
   "source": [
    "Residuals are normally distributed which indicates that the model has good quality."
   ]
  },
  {
   "cell_type": "code",
   "execution_count": 52,
   "metadata": {
    "colab": {
     "base_uri": "https://localhost:8080/",
     "height": 0
    },
    "id": "1vmk-Q3ygGqe",
    "outputId": "9ae5d235-6d89-4b6e-84c6-62174c5d11f0"
   },
   "outputs": [
    {
     "data": {
      "text/plain": [
       "Text(0, 0.5, 'residual')"
      ]
     },
     "execution_count": 52,
     "metadata": {
      "tags": []
     },
     "output_type": "execute_result"
    },
    {
     "data": {
      "image/png": "[encoded data removed]",
      "text/plain": [
       "<Figure size 1440x720 with 1 Axes>"
      ]
     },
     "metadata": {
      "needs_background": "light",
      "tags": []
     },
     "output_type": "display_data"
    }
   ],
   "source": [
    "# least squares residuals\n",
    "lr.resid.plot(style='.', figsize=(20, 10))\n",
    "plt.xlabel('index')\n",
    "plt.ylabel('residual')"
   ]
  },
  {
   "cell_type": "markdown",
   "metadata": {
    "id": "z3cf3BExgGqo"
   },
   "source": [
    "The residuals is quite uniform indicating that there is not much issues with heterostacticity. "
   ]
  },
  {
   "cell_type": "markdown",
   "metadata": {
    "id": "o9HURbO6gGqp"
   },
   "source": [
    "# Predictive Analytics"
   ]
  },
  {
   "cell_type": "code",
   "execution_count": 53,
   "metadata": {
    "id": "-s-nKXbxgGqq"
   },
   "outputs": [],
   "source": [
    "df = transformed_df"
   ]
  },
  {
   "cell_type": "code",
   "execution_count": 54,
   "metadata": {
    "id": "NsCUKLYrgGq8"
   },
   "outputs": [],
   "source": [
    "# seperate target from features\n",
    "X = df[df.columns[:-1]]\n",
    "y = df[df.columns[-1]]"
   ]
  },
  {
   "cell_type": "markdown",
   "metadata": {
    "id": "5i3FSmQ_gGrJ"
   },
   "source": [
    "## Model Selection "
   ]
  },
  {
   "cell_type": "code",
   "execution_count": 55,
   "metadata": {
    "id": "CqMPmnJIgGrL"
   },
   "outputs": [],
   "source": [
    "X_train, X_test, y_train, y_test = train_test_split(X, y, test_size = 0.25)"
   ]
  },
  {
   "cell_type": "markdown",
   "metadata": {
    "id": "Aha6oaXAgGrR"
   },
   "source": [
    "Scaling is performed after train-test split to avoid data leakage."
   ]
  },
  {
   "cell_type": "code",
   "execution_count": 56,
   "metadata": {
    "id": "6XsWaBn7gGrS"
   },
   "outputs": [],
   "source": [
    "# scale data with standard scaler\n",
    "scaler = StandardScaler()\n",
    "X_train = scaler.fit_transform(X_train)\n",
    "X_test = scaler.transform(X_test)"
   ]
  },
  {
   "cell_type": "code",
   "execution_count": 57,
   "metadata": {
    "id": "GvGdCp76gGrd"
   },
   "outputs": [],
   "source": [
    "def create_model(activation='relu',\n",
    "                 optimizer='adam',\n",
    "                 dropout=0.1):\n",
    "    '''\n",
    "    create deep learning model with keras\n",
    "    '''\n",
    "        \n",
    "    # create model\n",
    "    tf = Sequential()\n",
    "\n",
    "    tf.add(Dense(32, activation=activation, input_shape=(X_train.shape[1:])))\n",
    "    tf.add(Dropout(dropout))\n",
    "    tf.add(BatchNormalization())\n",
    "\n",
    "    tf.add(Dense(32, activation=activation))\n",
    "    tf.add(Dropout(dropout))\n",
    "\n",
    "    tf.add(Dense(1, activation='linear'))\n",
    "\n",
    "\n",
    "    # Compile model\n",
    "    tf.compile(loss='mean_absolute_error',\n",
    "                      optimizer=optimizer,\n",
    "                      metrics=['accuracy'])\n",
    "    return tf"
   ]
  },
  {
   "cell_type": "code",
   "execution_count": 50,
   "metadata": {},
   "outputs": [
    {
     "name": "stdout",
     "output_type": "stream",
     "text": [
      "Nearest Neighbors\n",
      "Linear Regression\n",
      "Decision Tree\n",
      "Support Vectors\n",
      "Random Forest\n",
      "XG Boost\n",
      "[22:39:36] WARNING: src/objective/regression_obj.cu:152: reg:linear is now deprecated in favor of reg:squarederror.\n",
      "ML Perceptron\n",
      "Deep Learning\n"
     ]
    },
    {
     "data": {
      "text/html": [
       "<div>\n",
       "<style scoped>\n",
       "    .dataframe tbody tr th:only-of-type {\n",
       "        vertical-align: middle;\n",
       "    }\n",
       "\n",
       "    .dataframe tbody tr th {\n",
       "        vertical-align: top;\n",
       "    }\n",
       "\n",
       "    .dataframe thead th {\n",
       "        text-align: right;\n",
       "    }\n",
       "</style>\n",
       "<table border=\"1\" class=\"dataframe\">\n",
       "  <thead>\n",
       "    <tr style=\"text-align: right;\">\n",
       "      <th></th>\n",
       "      <th>Train Score</th>\n",
       "      <th>Test Score</th>\n",
       "    </tr>\n",
       "  </thead>\n",
       "  <tbody>\n",
       "    <tr>\n",
       "      <th>Nearest Neighbors</th>\n",
       "      <td>0.454797</td>\n",
       "      <td>0.338460</td>\n",
       "    </tr>\n",
       "    <tr>\n",
       "      <th>Linear Regression</th>\n",
       "      <td>0.286848</td>\n",
       "      <td>0.271434</td>\n",
       "    </tr>\n",
       "    <tr>\n",
       "      <th>Decision Tree</th>\n",
       "      <td>0.483143</td>\n",
       "      <td>0.290067</td>\n",
       "    </tr>\n",
       "    <tr>\n",
       "      <th>Support Vectors</th>\n",
       "      <td>0.410121</td>\n",
       "      <td>0.340177</td>\n",
       "    </tr>\n",
       "    <tr>\n",
       "      <th>Random Forest</th>\n",
       "      <td>0.547946</td>\n",
       "      <td>0.397579</td>\n",
       "    </tr>\n",
       "    <tr>\n",
       "      <th>XG Boost</th>\n",
       "      <td>0.624829</td>\n",
       "      <td>0.464457</td>\n",
       "    </tr>\n",
       "    <tr>\n",
       "      <th>ML Perceptron</th>\n",
       "      <td>0.530853</td>\n",
       "      <td>0.373041</td>\n",
       "    </tr>\n",
       "    <tr>\n",
       "      <th>Deep Learning</th>\n",
       "      <td>0.554659</td>\n",
       "      <td>0.545363</td>\n",
       "    </tr>\n",
       "  </tbody>\n",
       "</table>\n",
       "</div>"
      ],
      "text/plain": [
       "                   Train Score  Test Score\n",
       "Nearest Neighbors     0.454797    0.338460\n",
       "Linear Regression     0.286848    0.271434\n",
       "Decision Tree         0.483143    0.290067\n",
       "Support Vectors       0.410121    0.340177\n",
       "Random Forest         0.547946    0.397579\n",
       "XG Boost              0.624829    0.464457\n",
       "ML Perceptron         0.530853    0.373041\n",
       "Deep Learning         0.554659    0.545363"
      ]
     },
     "execution_count": 50,
     "metadata": {},
     "output_type": "execute_result"
    }
   ],
   "source": [
    "model_dict = {'Nearest Neighbors': KNeighborsRegressor(n_neighbors = 10),\n",
    "              'Linear Regression': SGDRegressor(alpha=0.1),\n",
    "              'Decision Tree': DecisionTreeRegressor(max_depth =5),\n",
    "              'Support Vectors': SVR(),\n",
    "              'Random Forest': RandomForestRegressor(max_depth =5),\n",
    "              'XG Boost': XGBRegressor(),\n",
    "              'ML Perceptron': MLPRegressor(),\n",
    "              'Deep Learning': create_model()}\n",
    "\n",
    "model_df = pd.DataFrame(np.nan, index=model_dict.keys(), columns=['Train Score', 'Test Score'])\n",
    "for model_name, model in model_dict.items():\n",
    "    if model_name == 'Deep Learning':\n",
    "        model.fit(X_train, y_train, batch_size=480, epochs=40, verbose=0, validation_data = (X_train, y_train))\n",
    "        loss_score, train_score = model.evaluate(X_train, y_train, batch_size=480, verbose=0)\n",
    "        loss_score, test_score = model.evaluate(X_test, y_test, batch_size=480, verbose=0)\n",
    "        \n",
    "        model_df.loc[model_name, 'Train Score'] = train_score\n",
    "        model_df.loc[model_name, 'Test Score'] = test_score\n",
    "    else:\n",
    "        model.fit(X_train, y_train)\n",
    "        model_df.loc[model_name, 'Train Score'] = model.score(X_train, y_train)\n",
    "        model_df.loc[model_name, 'Test Score'] = model.score(X_test, y_test)\n",
    "model_df"
   ]
  },
  {
   "cell_type": "markdown",
   "metadata": {
    "id": "DQIButuigGrx"
   },
   "source": [
    "Based on the results in the table decision tree, random forest, xg boost, and deep learning models are selected for further optimizaiton of the hyperparameters."
   ]
  },
  {
   "cell_type": "markdown",
   "metadata": {
    "id": "jY0CD2YVgGr0"
   },
   "source": [
    "## Grid Search"
   ]
  },
  {
   "cell_type": "code",
   "execution_count": 59,
   "metadata": {
    "colab": {
     "base_uri": "https://localhost:8080/"
    },
    "id": "WnCmV68bgGsi",
    "outputId": "e8636fc3-fcaa-4730-d41f-2d1f137fae1d"
   },
   "outputs": [
    {
     "name": "stdout",
     "output_type": "stream",
     "text": [
      "0.49064115696156063\n",
      "0.4700638966864015\n"
     ]
    },
    {
     "data": {
      "text/plain": [
       "Pipeline(memory=None,\n",
       "         steps=[('scaler',\n",
       "                 StandardScaler(copy=True, with_mean=True, with_std=True)),\n",
       "                ('regressor',\n",
       "                 RandomForestRegressor(bootstrap=True, ccp_alpha=0.0,\n",
       "                                       criterion='mse', max_depth=10,\n",
       "                                       max_features=2, max_leaf_nodes=None,\n",
       "                                       max_samples=None,\n",
       "                                       min_impurity_decrease=0.0,\n",
       "                                       min_impurity_split=None,\n",
       "                                       min_samples_leaf=1, min_samples_split=2,\n",
       "                                       min_weight_fraction_leaf=0.0,\n",
       "                                       n_estimators=100, n_jobs=None,\n",
       "                                       oob_score=False, random_state=None,\n",
       "                                       verbose=0, warm_start=False))],\n",
       "         verbose=False)"
      ]
     },
     "execution_count": 59,
     "metadata": {
      "tags": []
     },
     "output_type": "execute_result"
    }
   ],
   "source": [
    "# random forest\n",
    "rf_pipe = Pipeline([('scaler', StandardScaler()),\n",
    "                    ('regressor', RandomForestRegressor())])\n",
    "\n",
    "rf_params = {'regressor__n_estimators': [10, 100],\n",
    "             'regressor__max_depth': [1, 10],\n",
    "             'regressor__max_features': [1, 2]}\n",
    "\n",
    "rf_grid = GridSearchCV(rf_pipe, param_grid=rf_params, cv=2)\n",
    "rf_grid.fit(X_train, y_train)\n",
    "print(rf_grid.score(X_train, y_train))\n",
    "print(rf_grid.score(X_test, y_test))\n",
    "rf_grid.best_estimator_"
   ]
  },
  {
   "cell_type": "code",
   "execution_count": 62,
   "metadata": {
    "colab": {
     "base_uri": "https://localhost:8080/"
    },
    "id": "K_P9UDrwgGs8",
    "outputId": "54e722f8-2176-4e43-c608-bc68b52aef3d"
   },
   "outputs": [
    {
     "name": "stdout",
     "output_type": "stream",
     "text": [
      "[18:42:57] WARNING: /workspace/src/objective/regression_obj.cu:152: reg:linear is now deprecated in favor of reg:squarederror.\n",
      "[18:42:58] WARNING: /workspace/src/objective/regression_obj.cu:152: reg:linear is now deprecated in favor of reg:squarederror.\n",
      "[18:42:59] WARNING: /workspace/src/objective/regression_obj.cu:152: reg:linear is now deprecated in favor of reg:squarederror.\n",
      "[18:43:04] WARNING: /workspace/src/objective/regression_obj.cu:152: reg:linear is now deprecated in favor of reg:squarederror.\n",
      "[18:43:10] WARNING: /workspace/src/objective/regression_obj.cu:152: reg:linear is now deprecated in favor of reg:squarederror.\n",
      "[18:43:15] WARNING: /workspace/src/objective/regression_obj.cu:152: reg:linear is now deprecated in favor of reg:squarederror.\n",
      "[18:43:20] WARNING: /workspace/src/objective/regression_obj.cu:152: reg:linear is now deprecated in favor of reg:squarederror.\n",
      "[18:44:04] WARNING: /workspace/src/objective/regression_obj.cu:152: reg:linear is now deprecated in favor of reg:squarederror.\n",
      "[18:44:46] WARNING: /workspace/src/objective/regression_obj.cu:152: reg:linear is now deprecated in favor of reg:squarederror.\n",
      "[18:44:47] WARNING: /workspace/src/objective/regression_obj.cu:152: reg:linear is now deprecated in favor of reg:squarederror.\n",
      "[18:44:48] WARNING: /workspace/src/objective/regression_obj.cu:152: reg:linear is now deprecated in favor of reg:squarederror.\n",
      "[18:44:54] WARNING: /workspace/src/objective/regression_obj.cu:152: reg:linear is now deprecated in favor of reg:squarederror.\n",
      "[18:44:59] WARNING: /workspace/src/objective/regression_obj.cu:152: reg:linear is now deprecated in favor of reg:squarederror.\n",
      "[18:45:05] WARNING: /workspace/src/objective/regression_obj.cu:152: reg:linear is now deprecated in favor of reg:squarederror.\n",
      "[18:45:10] WARNING: /workspace/src/objective/regression_obj.cu:152: reg:linear is now deprecated in favor of reg:squarederror.\n",
      "[18:45:52] WARNING: /workspace/src/objective/regression_obj.cu:152: reg:linear is now deprecated in favor of reg:squarederror.\n",
      "[18:46:35] WARNING: /workspace/src/objective/regression_obj.cu:152: reg:linear is now deprecated in favor of reg:squarederror.\n",
      "0.7211390802605508\n",
      "0.621328809203531\n"
     ]
    },
    {
     "data": {
      "text/plain": [
       "Pipeline(memory=None,\n",
       "         steps=[('scaler',\n",
       "                 StandardScaler(copy=True, with_mean=True, with_std=True)),\n",
       "                ('regressor',\n",
       "                 XGBRegressor(base_score=0.5, booster='gbtree',\n",
       "                              colsample_bylevel=1, colsample_bynode=1,\n",
       "                              colsample_bytree=1, gamma=0,\n",
       "                              importance_type='gain', learning_rate=0.1,\n",
       "                              max_delta_step=0, max_depth=10,\n",
       "                              min_child_weight=1, missing=None,\n",
       "                              n_estimators=100, n_jobs=1, nthread=None,\n",
       "                              objective='reg:linear', random_state=0,\n",
       "                              reg_alpha=0, reg_lambda=1, scale_pos_weight=1,\n",
       "                              seed=None, silent=None, subsample=1,\n",
       "                              verbosity=1))],\n",
       "         verbose=False)"
      ]
     },
     "execution_count": 62,
     "metadata": {
      "tags": []
     },
     "output_type": "execute_result"
    }
   ],
   "source": [
    "# xg boost\n",
    "xg_pipe = Pipeline([('scaler', StandardScaler()),\n",
    "                    ('regressor', XGBRegressor())])\n",
    "xg_params = {'regressor__n_estimators': [10, 100],\n",
    "             'regressor__max_depth': [1, 10],\n",
    "             'regressor__gamma': [0, 1]}\n",
    "xg_grid = GridSearchCV(xg_pipe, param_grid=xg_params, cv=2)\n",
    "xg_grid.fit(X_train, y_train)\n",
    "print(xg_grid.score(X_train, y_train))\n",
    "print(xg_grid.score(X_test, y_test))\n",
    "xg_grid.best_estimator_"
   ]
  },
  {
   "cell_type": "code",
   "execution_count": 49,
   "metadata": {
    "colab": {
     "base_uri": "https://localhost:8080/"
    },
    "id": "kS3k1mqcgGtF",
    "outputId": "707dd41e-0ffc-4a2a-e4ef-17cb3adde253",
    "scrolled": true
   },
   "outputs": [
    {
     "name": "stdout",
     "output_type": "stream",
     "text": [
      "0.6537722945213318\n",
      "0.6553237438201904\n"
     ]
    },
    {
     "data": {
      "text/plain": [
       "<tensorflow.python.keras.wrappers.scikit_learn.KerasClassifier at 0x7f501241ec18>"
      ]
     },
     "execution_count": 49,
     "metadata": {
      "tags": []
     },
     "output_type": "execute_result"
    }
   ],
   "source": [
    "# deep learning \n",
    "tf_params = {'activation': ['relu', 'tanh'],\n",
    "             'optimizer': ['adam', 'rmsprop'],\n",
    "             'dropout': [0.1, 0.2]}\n",
    "\n",
    "tf_grid = GridSearchCV(KerasClassifier(build_fn=create_model, verbose=0), param_grid=tf_params, cv=2)\n",
    "tf_grid.fit(X_train, y_train)\n",
    "print(tf_grid.score(X_train, y_train))\n",
    "print(tf_grid.score(X_test, y_test))\n",
    "tf_grid.best_estimator_"
   ]
  },
  {
   "cell_type": "code",
   "execution_count": 51,
   "metadata": {
    "id": "UamawmXKLzDO"
   },
   "outputs": [],
   "source": [
    "tf = create_model(activation=tf_hyperparams['activation'],\n",
    "                  optimizer=tf_hyperparams['optimizer'],\n",
    "                  dropout=tf_hyperparams['dropout'])"
   ]
  },
  {
   "cell_type": "code",
   "execution_count": 50,
   "metadata": {
    "colab": {
     "base_uri": "https://localhost:8080/"
    },
    "id": "Lms-Xb4JJlmS",
    "outputId": "a5db42b3-2a8b-42b1-9b70-5a127dbfb4ce"
   },
   "outputs": [
    {
     "data": {
      "text/plain": [
       "{'activation': 'relu', 'dropout': 0.1, 'optimizer': 'adam', 'verbose': 0}"
      ]
     },
     "execution_count": 50,
     "metadata": {
      "tags": []
     },
     "output_type": "execute_result"
    }
   ],
   "source": [
    "tf_hyperparams = tf_grid.best_estimator_.sk_params\n",
    "tf_hyperparams"
   ]
  },
  {
   "cell_type": "code",
   "execution_count": 52,
   "metadata": {
    "colab": {
     "base_uri": "https://localhost:8080/"
    },
    "id": "MssBR7r0Mht9",
    "outputId": "6f71c4b4-845b-4376-bc0a-8dd67b12645d"
   },
   "outputs": [
    {
     "data": {
      "text/plain": [
       "0.6553237438201904"
      ]
     },
     "execution_count": 52,
     "metadata": {
      "tags": []
     },
     "output_type": "execute_result"
    }
   ],
   "source": [
    "tf.fit(X_train, y_train, batch_size=480, epochs=40, verbose=0, validation_data = (X_train, y_train))\n",
    "loss_score, train_score = tf.evaluate(X_train, y_train, batch_size=480, verbose=0)\n",
    "train_score\n",
    "loss_score, test_score = tf.evaluate(X_test, y_test, batch_size=480, verbose=0)\n",
    "test_score"
   ]
  },
  {
   "cell_type": "code",
   "execution_count": 54,
   "metadata": {
    "colab": {
     "base_uri": "https://localhost:8080/"
    },
    "id": "MlHIPn6AM9MD",
    "outputId": "a81044af-3680-4e7c-be92-cf8b95d7b9f1",
    "scrolled": true
   },
   "outputs": [
    {
     "name": "stdout",
     "output_type": "stream",
     "text": [
      "INFO:tensorflow:Assets written to: /content/drive/My Drive/Audicia/assets\n"
     ]
    }
   ],
   "source": [
    "tf.save('/content/drive/My Drive/Audicia/')"
   ]
  },
  {
   "cell_type": "markdown",
   "metadata": {},
   "source": [
    "## Model Predictions"
   ]
  },
  {
   "cell_type": "code",
   "execution_count": 85,
   "metadata": {},
   "outputs": [
    {
     "name": "stdout",
     "output_type": "stream",
     "text": [
      "<class 'pandas.core.frame.DataFrame'>\n",
      "RangeIndex: 132162 entries, 0 to 132161\n",
      "Data columns (total 11 columns):\n",
      " #   Column              Non-Null Count   Dtype  \n",
      "---  ------              --------------   -----  \n",
      " 0   hotel_id            132162 non-null  int64  \n",
      " 1   city_id             132007 non-null  float64\n",
      " 2   content_score       132007 non-null  float64\n",
      " 3   n_images            132006 non-null  float64\n",
      " 4   distance_to_center  131999 non-null  float64\n",
      " 5   avg_rating          95532 non-null   float64\n",
      " 6   stars               131987 non-null  float64\n",
      " 7   n_reviews           131999 non-null  float64\n",
      " 8   avg_rank            132162 non-null  float64\n",
      " 9   avg_price           132104 non-null  float64\n",
      " 10  avg_saving_percent  132104 non-null  float64\n",
      "dtypes: float64(10), int64(1)\n",
      "memory usage: 11.1 MB\n"
     ]
    }
   ],
   "source": [
    "test_df = pd.read_csv('test_set.csv')\n",
    "test_df.info()"
   ]
  },
  {
   "cell_type": "code",
   "execution_count": 86,
   "metadata": {},
   "outputs": [
    {
     "data": {
      "text/plain": [
       "hotel_id               0.000000\n",
       "city_id                0.117280\n",
       "content_score          0.117280\n",
       "n_images               0.118037\n",
       "distance_to_center     0.123333\n",
       "avg_rating            27.715985\n",
       "stars                  0.132413\n",
       "n_reviews              0.123333\n",
       "avg_rank               0.000000\n",
       "avg_price              0.043886\n",
       "avg_saving_percent     0.043886\n",
       "dtype: float64"
      ]
     },
     "execution_count": 86,
     "metadata": {},
     "output_type": "execute_result"
    }
   ],
   "source": [
    "test_df.isna().mean()*100"
   ]
  },
  {
   "cell_type": "code",
   "execution_count": 87,
   "metadata": {
    "scrolled": true
   },
   "outputs": [
    {
     "data": {
      "text/html": [
       "<div>\n",
       "<style scoped>\n",
       "    .dataframe tbody tr th:only-of-type {\n",
       "        vertical-align: middle;\n",
       "    }\n",
       "\n",
       "    .dataframe tbody tr th {\n",
       "        vertical-align: top;\n",
       "    }\n",
       "\n",
       "    .dataframe thead th {\n",
       "        text-align: right;\n",
       "    }\n",
       "</style>\n",
       "<table border=\"1\" class=\"dataframe\">\n",
       "  <thead>\n",
       "    <tr style=\"text-align: right;\">\n",
       "      <th></th>\n",
       "      <th>hotel_id</th>\n",
       "      <th>city_id</th>\n",
       "      <th>content_score</th>\n",
       "      <th>n_images</th>\n",
       "      <th>distance_to_center</th>\n",
       "      <th>avg_rating</th>\n",
       "      <th>stars</th>\n",
       "      <th>n_reviews</th>\n",
       "      <th>avg_rank</th>\n",
       "      <th>avg_price</th>\n",
       "      <th>avg_saving_percent</th>\n",
       "    </tr>\n",
       "  </thead>\n",
       "  <tbody>\n",
       "    <tr>\n",
       "      <th>0</th>\n",
       "      <td>14942256073</td>\n",
       "      <td>122750.0</td>\n",
       "      <td>58.0</td>\n",
       "      <td>2.0</td>\n",
       "      <td>11503.0</td>\n",
       "      <td>8.900000e+01</td>\n",
       "      <td>0.0</td>\n",
       "      <td>168.0</td>\n",
       "      <td>13.500</td>\n",
       "      <td>90.19</td>\n",
       "      <td>32.0</td>\n",
       "    </tr>\n",
       "    <tr>\n",
       "      <th>1</th>\n",
       "      <td>16036037903</td>\n",
       "      <td>28134.0</td>\n",
       "      <td>68.0</td>\n",
       "      <td>4.0</td>\n",
       "      <td>938.0</td>\n",
       "      <td>8.100000e+01</td>\n",
       "      <td>5.0</td>\n",
       "      <td>735.0</td>\n",
       "      <td>13.667</td>\n",
       "      <td>98.27</td>\n",
       "      <td>19.0</td>\n",
       "    </tr>\n",
       "    <tr>\n",
       "      <th>2</th>\n",
       "      <td>288585940112</td>\n",
       "      <td>30578.0</td>\n",
       "      <td>19.0</td>\n",
       "      <td>0.0</td>\n",
       "      <td>38982.0</td>\n",
       "      <td>3.558116e+09</td>\n",
       "      <td>0.0</td>\n",
       "      <td>0.0</td>\n",
       "      <td>20.462</td>\n",
       "      <td>48.77</td>\n",
       "      <td>0.0</td>\n",
       "    </tr>\n",
       "    <tr>\n",
       "      <th>3</th>\n",
       "      <td>129041645070</td>\n",
       "      <td>54398.0</td>\n",
       "      <td>47.0</td>\n",
       "      <td>0.0</td>\n",
       "      <td>1683.0</td>\n",
       "      <td>8.000000e+01</td>\n",
       "      <td>0.0</td>\n",
       "      <td>69.0</td>\n",
       "      <td>15.000</td>\n",
       "      <td>72.32</td>\n",
       "      <td>0.0</td>\n",
       "    </tr>\n",
       "    <tr>\n",
       "      <th>4</th>\n",
       "      <td>12460296563</td>\n",
       "      <td>63890.0</td>\n",
       "      <td>59.0</td>\n",
       "      <td>3.0</td>\n",
       "      <td>1299.0</td>\n",
       "      <td>8.000000e+01</td>\n",
       "      <td>3.0</td>\n",
       "      <td>1470.0</td>\n",
       "      <td>10.000</td>\n",
       "      <td>24.54</td>\n",
       "      <td>19.0</td>\n",
       "    </tr>\n",
       "    <tr>\n",
       "      <th>...</th>\n",
       "      <td>...</td>\n",
       "      <td>...</td>\n",
       "      <td>...</td>\n",
       "      <td>...</td>\n",
       "      <td>...</td>\n",
       "      <td>...</td>\n",
       "      <td>...</td>\n",
       "      <td>...</td>\n",
       "      <td>...</td>\n",
       "      <td>...</td>\n",
       "      <td>...</td>\n",
       "    </tr>\n",
       "    <tr>\n",
       "      <th>132157</th>\n",
       "      <td>146542092044</td>\n",
       "      <td>22896.0</td>\n",
       "      <td>47.0</td>\n",
       "      <td>0.0</td>\n",
       "      <td>3259.0</td>\n",
       "      <td>8.400000e+01</td>\n",
       "      <td>0.0</td>\n",
       "      <td>138.0</td>\n",
       "      <td>14.280</td>\n",
       "      <td>48.83</td>\n",
       "      <td>0.0</td>\n",
       "    </tr>\n",
       "    <tr>\n",
       "      <th>132158</th>\n",
       "      <td>191459858176</td>\n",
       "      <td>28030.0</td>\n",
       "      <td>50.0</td>\n",
       "      <td>0.0</td>\n",
       "      <td>5032.0</td>\n",
       "      <td>8.600000e+01</td>\n",
       "      <td>0.0</td>\n",
       "      <td>996.0</td>\n",
       "      <td>7.000</td>\n",
       "      <td>32.46</td>\n",
       "      <td>4.0</td>\n",
       "    </tr>\n",
       "    <tr>\n",
       "      <th>132159</th>\n",
       "      <td>71241988826</td>\n",
       "      <td>137926.0</td>\n",
       "      <td>62.0</td>\n",
       "      <td>0.0</td>\n",
       "      <td>1666.0</td>\n",
       "      <td>7.900000e+01</td>\n",
       "      <td>0.0</td>\n",
       "      <td>102.0</td>\n",
       "      <td>17.600</td>\n",
       "      <td>113.39</td>\n",
       "      <td>19.0</td>\n",
       "    </tr>\n",
       "    <tr>\n",
       "      <th>132160</th>\n",
       "      <td>204878950620</td>\n",
       "      <td>54574.0</td>\n",
       "      <td>51.0</td>\n",
       "      <td>1.0</td>\n",
       "      <td>521.0</td>\n",
       "      <td>8.500000e+01</td>\n",
       "      <td>3.0</td>\n",
       "      <td>324.0</td>\n",
       "      <td>18.925</td>\n",
       "      <td>85.63</td>\n",
       "      <td>0.0</td>\n",
       "    </tr>\n",
       "    <tr>\n",
       "      <th>132161</th>\n",
       "      <td>99788791152</td>\n",
       "      <td>774630.0</td>\n",
       "      <td>54.0</td>\n",
       "      <td>2.0</td>\n",
       "      <td>1503.0</td>\n",
       "      <td>8.500000e+01</td>\n",
       "      <td>0.0</td>\n",
       "      <td>357.0</td>\n",
       "      <td>10.515</td>\n",
       "      <td>57.84</td>\n",
       "      <td>0.0</td>\n",
       "    </tr>\n",
       "  </tbody>\n",
       "</table>\n",
       "<p>132162 rows × 11 columns</p>\n",
       "</div>"
      ],
      "text/plain": [
       "            hotel_id   city_id  content_score  n_images  distance_to_center  \\\n",
       "0        14942256073  122750.0           58.0       2.0             11503.0   \n",
       "1        16036037903   28134.0           68.0       4.0               938.0   \n",
       "2       288585940112   30578.0           19.0       0.0             38982.0   \n",
       "3       129041645070   54398.0           47.0       0.0              1683.0   \n",
       "4        12460296563   63890.0           59.0       3.0              1299.0   \n",
       "...              ...       ...            ...       ...                 ...   \n",
       "132157  146542092044   22896.0           47.0       0.0              3259.0   \n",
       "132158  191459858176   28030.0           50.0       0.0              5032.0   \n",
       "132159   71241988826  137926.0           62.0       0.0              1666.0   \n",
       "132160  204878950620   54574.0           51.0       1.0               521.0   \n",
       "132161   99788791152  774630.0           54.0       2.0              1503.0   \n",
       "\n",
       "          avg_rating  stars  n_reviews  avg_rank  avg_price  \\\n",
       "0       8.900000e+01    0.0      168.0    13.500      90.19   \n",
       "1       8.100000e+01    5.0      735.0    13.667      98.27   \n",
       "2       3.558116e+09    0.0        0.0    20.462      48.77   \n",
       "3       8.000000e+01    0.0       69.0    15.000      72.32   \n",
       "4       8.000000e+01    3.0     1470.0    10.000      24.54   \n",
       "...              ...    ...        ...       ...        ...   \n",
       "132157  8.400000e+01    0.0      138.0    14.280      48.83   \n",
       "132158  8.600000e+01    0.0      996.0     7.000      32.46   \n",
       "132159  7.900000e+01    0.0      102.0    17.600     113.39   \n",
       "132160  8.500000e+01    3.0      324.0    18.925      85.63   \n",
       "132161  8.500000e+01    0.0      357.0    10.515      57.84   \n",
       "\n",
       "        avg_saving_percent  \n",
       "0                     32.0  \n",
       "1                     19.0  \n",
       "2                      0.0  \n",
       "3                      0.0  \n",
       "4                     19.0  \n",
       "...                    ...  \n",
       "132157                 0.0  \n",
       "132158                 4.0  \n",
       "132159                19.0  \n",
       "132160                 0.0  \n",
       "132161                 0.0  \n",
       "\n",
       "[132162 rows x 11 columns]"
      ]
     },
     "execution_count": 87,
     "metadata": {},
     "output_type": "execute_result"
    }
   ],
   "source": [
    "test_df.fillna(df.median(), inplace=True)\n",
    "test_df"
   ]
  },
  {
   "cell_type": "code",
   "execution_count": 88,
   "metadata": {
    "scrolled": true
   },
   "outputs": [
    {
     "data": {
      "text/html": [
       "<div>\n",
       "<style scoped>\n",
       "    .dataframe tbody tr th:only-of-type {\n",
       "        vertical-align: middle;\n",
       "    }\n",
       "\n",
       "    .dataframe tbody tr th {\n",
       "        vertical-align: top;\n",
       "    }\n",
       "\n",
       "    .dataframe thead th {\n",
       "        text-align: right;\n",
       "    }\n",
       "</style>\n",
       "<table border=\"1\" class=\"dataframe\">\n",
       "  <thead>\n",
       "    <tr style=\"text-align: right;\">\n",
       "      <th></th>\n",
       "      <th>hotel_id</th>\n",
       "      <th>city_id</th>\n",
       "      <th>content_score</th>\n",
       "      <th>n_images</th>\n",
       "      <th>distance_to_center</th>\n",
       "      <th>avg_rating</th>\n",
       "      <th>stars</th>\n",
       "      <th>n_reviews</th>\n",
       "      <th>avg_rank</th>\n",
       "      <th>avg_price</th>\n",
       "      <th>avg_saving_percent</th>\n",
       "    </tr>\n",
       "  </thead>\n",
       "  <tbody>\n",
       "    <tr>\n",
       "      <th>count</th>\n",
       "      <td>1.321620e+05</td>\n",
       "      <td>132162.000000</td>\n",
       "      <td>132162.000000</td>\n",
       "      <td>1.321620e+05</td>\n",
       "      <td>1.321620e+05</td>\n",
       "      <td>1.321620e+05</td>\n",
       "      <td>132162.000000</td>\n",
       "      <td>132162.000000</td>\n",
       "      <td>132162.000000</td>\n",
       "      <td>132162.000000</td>\n",
       "      <td>132162.000000</td>\n",
       "    </tr>\n",
       "    <tr>\n",
       "      <th>mean</th>\n",
       "      <td>1.327811e+11</td>\n",
       "      <td>149138.269714</td>\n",
       "      <td>225.495014</td>\n",
       "      <td>3.566677e+02</td>\n",
       "      <td>1.550602e+04</td>\n",
       "      <td>9.861668e+08</td>\n",
       "      <td>1.160461</td>\n",
       "      <td>900.137314</td>\n",
       "      <td>14.714384</td>\n",
       "      <td>108.671718</td>\n",
       "      <td>7.114299</td>\n",
       "    </tr>\n",
       "    <tr>\n",
       "      <th>std</th>\n",
       "      <td>1.035654e+11</td>\n",
       "      <td>219487.963279</td>\n",
       "      <td>5093.771354</td>\n",
       "      <td>2.094004e+04</td>\n",
       "      <td>2.493657e+05</td>\n",
       "      <td>1.592605e+09</td>\n",
       "      <td>1.620701</td>\n",
       "      <td>2514.619214</td>\n",
       "      <td>5.658890</td>\n",
       "      <td>144.878166</td>\n",
       "      <td>12.977148</td>\n",
       "    </tr>\n",
       "    <tr>\n",
       "      <th>min</th>\n",
       "      <td>1.558896e+08</td>\n",
       "      <td>1354.000000</td>\n",
       "      <td>7.000000</td>\n",
       "      <td>-1.000000e+00</td>\n",
       "      <td>0.000000e+00</td>\n",
       "      <td>4.300000e+01</td>\n",
       "      <td>0.000000</td>\n",
       "      <td>0.000000</td>\n",
       "      <td>1.000000</td>\n",
       "      <td>4.000000</td>\n",
       "      <td>0.000000</td>\n",
       "    </tr>\n",
       "    <tr>\n",
       "      <th>25%</th>\n",
       "      <td>4.082460e+10</td>\n",
       "      <td>32008.000000</td>\n",
       "      <td>45.000000</td>\n",
       "      <td>0.000000e+00</td>\n",
       "      <td>5.390000e+02</td>\n",
       "      <td>8.000000e+01</td>\n",
       "      <td>0.000000</td>\n",
       "      <td>0.000000</td>\n",
       "      <td>11.043000</td>\n",
       "      <td>50.780000</td>\n",
       "      <td>0.000000</td>\n",
       "    </tr>\n",
       "    <tr>\n",
       "      <th>50%</th>\n",
       "      <td>1.082218e+11</td>\n",
       "      <td>55122.000000</td>\n",
       "      <td>53.000000</td>\n",
       "      <td>1.000000e+00</td>\n",
       "      <td>1.511000e+03</td>\n",
       "      <td>8.500000e+01</td>\n",
       "      <td>0.000000</td>\n",
       "      <td>186.000000</td>\n",
       "      <td>15.000000</td>\n",
       "      <td>77.450000</td>\n",
       "      <td>0.000000</td>\n",
       "    </tr>\n",
       "    <tr>\n",
       "      <th>75%</th>\n",
       "      <td>2.288447e+11</td>\n",
       "      <td>137418.000000</td>\n",
       "      <td>59.000000</td>\n",
       "      <td>2.000000e+00</td>\n",
       "      <td>4.152000e+03</td>\n",
       "      <td>3.558116e+09</td>\n",
       "      <td>3.000000</td>\n",
       "      <td>759.000000</td>\n",
       "      <td>18.429000</td>\n",
       "      <td>120.987500</td>\n",
       "      <td>9.000000</td>\n",
       "    </tr>\n",
       "    <tr>\n",
       "      <th>max</th>\n",
       "      <td>3.233873e+11</td>\n",
       "      <td>878696.000000</td>\n",
       "      <td>148877.000000</td>\n",
       "      <td>2.628317e+06</td>\n",
       "      <td>1.603577e+07</td>\n",
       "      <td>3.558116e+09</td>\n",
       "      <td>5.000000</td>\n",
       "      <td>254859.000000</td>\n",
       "      <td>99.000000</td>\n",
       "      <td>7938.770000</td>\n",
       "      <td>100.000000</td>\n",
       "    </tr>\n",
       "  </tbody>\n",
       "</table>\n",
       "</div>"
      ],
      "text/plain": [
       "           hotel_id        city_id  content_score      n_images  \\\n",
       "count  1.321620e+05  132162.000000  132162.000000  1.321620e+05   \n",
       "mean   1.327811e+11  149138.269714     225.495014  3.566677e+02   \n",
       "std    1.035654e+11  219487.963279    5093.771354  2.094004e+04   \n",
       "min    1.558896e+08    1354.000000       7.000000 -1.000000e+00   \n",
       "25%    4.082460e+10   32008.000000      45.000000  0.000000e+00   \n",
       "50%    1.082218e+11   55122.000000      53.000000  1.000000e+00   \n",
       "75%    2.288447e+11  137418.000000      59.000000  2.000000e+00   \n",
       "max    3.233873e+11  878696.000000  148877.000000  2.628317e+06   \n",
       "\n",
       "       distance_to_center    avg_rating          stars      n_reviews  \\\n",
       "count        1.321620e+05  1.321620e+05  132162.000000  132162.000000   \n",
       "mean         1.550602e+04  9.861668e+08       1.160461     900.137314   \n",
       "std          2.493657e+05  1.592605e+09       1.620701    2514.619214   \n",
       "min          0.000000e+00  4.300000e+01       0.000000       0.000000   \n",
       "25%          5.390000e+02  8.000000e+01       0.000000       0.000000   \n",
       "50%          1.511000e+03  8.500000e+01       0.000000     186.000000   \n",
       "75%          4.152000e+03  3.558116e+09       3.000000     759.000000   \n",
       "max          1.603577e+07  3.558116e+09       5.000000  254859.000000   \n",
       "\n",
       "            avg_rank      avg_price  avg_saving_percent  \n",
       "count  132162.000000  132162.000000       132162.000000  \n",
       "mean       14.714384     108.671718            7.114299  \n",
       "std         5.658890     144.878166           12.977148  \n",
       "min         1.000000       4.000000            0.000000  \n",
       "25%        11.043000      50.780000            0.000000  \n",
       "50%        15.000000      77.450000            0.000000  \n",
       "75%        18.429000     120.987500            9.000000  \n",
       "max        99.000000    7938.770000          100.000000  "
      ]
     },
     "execution_count": 88,
     "metadata": {},
     "output_type": "execute_result"
    }
   ],
   "source": [
    "test_df.describe()"
   ]
  },
  {
   "cell_type": "code",
   "execution_count": 89,
   "metadata": {
    "scrolled": true
   },
   "outputs": [
    {
     "data": {
      "text/plain": [
       "hotel_id              132162\n",
       "city_id                20903\n",
       "content_score             74\n",
       "n_images                 139\n",
       "distance_to_center     19832\n",
       "avg_rating                57\n",
       "stars                      7\n",
       "n_reviews               4116\n",
       "avg_rank               14551\n",
       "avg_price              28321\n",
       "avg_saving_percent       101\n",
       "dtype: int64"
      ]
     },
     "execution_count": 89,
     "metadata": {},
     "output_type": "execute_result"
    }
   ],
   "source": [
    "test_df.nunique() "
   ]
  },
  {
   "cell_type": "code",
   "execution_count": 90,
   "metadata": {
    "scrolled": true
   },
   "outputs": [
    {
     "data": {
      "text/html": [
       "<div>\n",
       "<style scoped>\n",
       "    .dataframe tbody tr th:only-of-type {\n",
       "        vertical-align: middle;\n",
       "    }\n",
       "\n",
       "    .dataframe tbody tr th {\n",
       "        vertical-align: top;\n",
       "    }\n",
       "\n",
       "    .dataframe thead th {\n",
       "        text-align: right;\n",
       "    }\n",
       "</style>\n",
       "<table border=\"1\" class=\"dataframe\">\n",
       "  <thead>\n",
       "    <tr style=\"text-align: right;\">\n",
       "      <th></th>\n",
       "      <th>hotel_id</th>\n",
       "      <th>city_id</th>\n",
       "      <th>content_score</th>\n",
       "      <th>n_images</th>\n",
       "      <th>distance_to_center</th>\n",
       "      <th>avg_rating</th>\n",
       "      <th>stars</th>\n",
       "      <th>n_reviews</th>\n",
       "      <th>avg_rank</th>\n",
       "      <th>avg_price</th>\n",
       "      <th>avg_saving_percent</th>\n",
       "    </tr>\n",
       "  </thead>\n",
       "  <tbody>\n",
       "    <tr>\n",
       "      <th>0</th>\n",
       "      <td>14942256073</td>\n",
       "      <td>122750.0</td>\n",
       "      <td>58.0</td>\n",
       "      <td>2.0</td>\n",
       "      <td>11503.0</td>\n",
       "      <td>8.900000e+01</td>\n",
       "      <td>0.0</td>\n",
       "      <td>168.0</td>\n",
       "      <td>13.500</td>\n",
       "      <td>90.19</td>\n",
       "      <td>32.0</td>\n",
       "    </tr>\n",
       "    <tr>\n",
       "      <th>1</th>\n",
       "      <td>16036037903</td>\n",
       "      <td>28134.0</td>\n",
       "      <td>68.0</td>\n",
       "      <td>4.0</td>\n",
       "      <td>938.0</td>\n",
       "      <td>8.100000e+01</td>\n",
       "      <td>5.0</td>\n",
       "      <td>735.0</td>\n",
       "      <td>13.667</td>\n",
       "      <td>98.27</td>\n",
       "      <td>19.0</td>\n",
       "    </tr>\n",
       "    <tr>\n",
       "      <th>2</th>\n",
       "      <td>288585940112</td>\n",
       "      <td>30578.0</td>\n",
       "      <td>19.0</td>\n",
       "      <td>0.0</td>\n",
       "      <td>38982.0</td>\n",
       "      <td>3.558116e+09</td>\n",
       "      <td>0.0</td>\n",
       "      <td>0.0</td>\n",
       "      <td>20.462</td>\n",
       "      <td>48.77</td>\n",
       "      <td>0.0</td>\n",
       "    </tr>\n",
       "    <tr>\n",
       "      <th>3</th>\n",
       "      <td>129041645070</td>\n",
       "      <td>54398.0</td>\n",
       "      <td>47.0</td>\n",
       "      <td>0.0</td>\n",
       "      <td>1683.0</td>\n",
       "      <td>8.000000e+01</td>\n",
       "      <td>0.0</td>\n",
       "      <td>69.0</td>\n",
       "      <td>15.000</td>\n",
       "      <td>72.32</td>\n",
       "      <td>0.0</td>\n",
       "    </tr>\n",
       "    <tr>\n",
       "      <th>4</th>\n",
       "      <td>12460296563</td>\n",
       "      <td>63890.0</td>\n",
       "      <td>59.0</td>\n",
       "      <td>3.0</td>\n",
       "      <td>1299.0</td>\n",
       "      <td>8.000000e+01</td>\n",
       "      <td>3.0</td>\n",
       "      <td>1470.0</td>\n",
       "      <td>10.000</td>\n",
       "      <td>24.54</td>\n",
       "      <td>19.0</td>\n",
       "    </tr>\n",
       "  </tbody>\n",
       "</table>\n",
       "</div>"
      ],
      "text/plain": [
       "       hotel_id   city_id  content_score  n_images  distance_to_center  \\\n",
       "0   14942256073  122750.0           58.0       2.0             11503.0   \n",
       "1   16036037903   28134.0           68.0       4.0               938.0   \n",
       "2  288585940112   30578.0           19.0       0.0             38982.0   \n",
       "3  129041645070   54398.0           47.0       0.0              1683.0   \n",
       "4   12460296563   63890.0           59.0       3.0              1299.0   \n",
       "\n",
       "     avg_rating  stars  n_reviews  avg_rank  avg_price  avg_saving_percent  \n",
       "0  8.900000e+01    0.0      168.0    13.500      90.19                32.0  \n",
       "1  8.100000e+01    5.0      735.0    13.667      98.27                19.0  \n",
       "2  3.558116e+09    0.0        0.0    20.462      48.77                 0.0  \n",
       "3  8.000000e+01    0.0       69.0    15.000      72.32                 0.0  \n",
       "4  8.000000e+01    3.0     1470.0    10.000      24.54                19.0  "
      ]
     },
     "execution_count": 90,
     "metadata": {},
     "output_type": "execute_result"
    }
   ],
   "source": [
    "test_df.head() "
   ]
  },
  {
   "cell_type": "code",
   "execution_count": 92,
   "metadata": {},
   "outputs": [],
   "source": [
    "# transform and scale the data\n",
    "test_trans_df = test_df.transform(transformation_dict, axis='index')\n",
    "test_trans_df = scaler.transform(test_trans_df)"
   ]
  },
  {
   "cell_type": "code",
   "execution_count": null,
   "metadata": {},
   "outputs": [],
   "source": [
    "#best_model = model_dict['XG Boost']\n",
    "best_model = tf\n",
    "log_n_clicks_array = best_model.predict(test_trans_df)\n",
    "n_clicks_array = np.e ** log_n_clicks_array \n",
    "n_clicks_df = pd.DataFrame(n_clicks_array, columns=['predictions'])"
   ]
  },
  {
   "cell_type": "code",
   "execution_count": 113,
   "metadata": {},
   "outputs": [
    {
     "data": {
      "text/html": [
       "<div>\n",
       "<style scoped>\n",
       "    .dataframe tbody tr th:only-of-type {\n",
       "        vertical-align: middle;\n",
       "    }\n",
       "\n",
       "    .dataframe tbody tr th {\n",
       "        vertical-align: top;\n",
       "    }\n",
       "\n",
       "    .dataframe thead th {\n",
       "        text-align: right;\n",
       "    }\n",
       "</style>\n",
       "<table border=\"1\" class=\"dataframe\">\n",
       "  <thead>\n",
       "    <tr style=\"text-align: right;\">\n",
       "      <th></th>\n",
       "      <th>predictions</th>\n",
       "    </tr>\n",
       "  </thead>\n",
       "  <tbody>\n",
       "    <tr>\n",
       "      <th>count</th>\n",
       "      <td>95532.000000</td>\n",
       "    </tr>\n",
       "    <tr>\n",
       "      <th>mean</th>\n",
       "      <td>4.445378</td>\n",
       "    </tr>\n",
       "    <tr>\n",
       "      <th>std</th>\n",
       "      <td>92.117462</td>\n",
       "    </tr>\n",
       "    <tr>\n",
       "      <th>min</th>\n",
       "      <td>0.538418</td>\n",
       "    </tr>\n",
       "    <tr>\n",
       "      <th>25%</th>\n",
       "      <td>1.003648</td>\n",
       "    </tr>\n",
       "    <tr>\n",
       "      <th>50%</th>\n",
       "      <td>1.127315</td>\n",
       "    </tr>\n",
       "    <tr>\n",
       "      <th>75%</th>\n",
       "      <td>2.261675</td>\n",
       "    </tr>\n",
       "    <tr>\n",
       "      <th>max</th>\n",
       "      <td>11713.804688</td>\n",
       "    </tr>\n",
       "  </tbody>\n",
       "</table>\n",
       "</div>"
      ],
      "text/plain": [
       "        predictions\n",
       "count  95532.000000\n",
       "mean       4.445378\n",
       "std       92.117462\n",
       "min        0.538418\n",
       "25%        1.003648\n",
       "50%        1.127315\n",
       "75%        2.261675\n",
       "max    11713.804688"
      ]
     },
     "execution_count": 113,
     "metadata": {},
     "output_type": "execute_result"
    }
   ],
   "source": [
    "n_clicks_df.describe()"
   ]
  },
  {
   "cell_type": "markdown",
   "metadata": {},
   "source": [
    "The descriptive statistics of the predictions shows that they are consistent with the train data, so they were stored to a csv file as follows:"
   ]
  },
  {
   "cell_type": "code",
   "execution_count": 98,
   "metadata": {},
   "outputs": [],
   "source": [
    "n_clicks_df.to_csv('predictions.csv') "
   ]
  },
  {
   "cell_type": "markdown",
   "metadata": {
    "id": "sUbrqI0XgGvQ"
   },
   "source": [
    "# Conclusion"
   ]
  },
  {
   "cell_type": "markdown",
   "metadata": {
    "id": "8lg-r0FagGvU"
   },
   "source": [
    "This project presents prediction of number clicks on a hotel website. The data was collected and cleaned. Missing values were treated approperiately based on their abundance. Missing values that were not missing completely at random were imputed using linear regression. The outliers in data were identified by k-means clustering technique and excluded from the dataset for enhaced accuracy. Statistically significant factors on the number of clicks were identified using ordinary least squares and variance inflation factors and the effect of transformations and standard scaler on accuracy of the model has been demonstrated. The collection of models for hyperparameter optimization was narrowed down by a model selection process based on a large collection of common machine learning algorithms. Random Forest and XGboost models were selected and optimized through grid search, but were beaten by the deep learning model built using tensorflow keras. This model was used to predict the number of clicks and store it in a csv file."
   ]
  }
 ],
 "metadata": {
  "accelerator": "TPU",
  "colab": {
   "name": "Hotel Website.ipynb",
   "provenance": [],
   "toc_visible": true
  },
  "kernelspec": {
   "display_name": "Python 3",
   "language": "python",
   "name": "python3"
  },
  "language_info": {
   "codemirror_mode": {
    "name": "ipython",
    "version": 3
   },
   "file_extension": ".py",
   "mimetype": "text/x-python",
   "name": "python",
   "nbconvert_exporter": "python",
   "pygments_lexer": "ipython3",
   "version": "3.7.4"
  },
  "toc": {
   "base_numbering": 1,
   "nav_menu": {
    "height": "78px",
    "width": "180px"
   },
   "number_sections": true,
   "sideBar": true,
   "skip_h1_title": false,
   "title_cell": "Table of Contents",
   "title_sidebar": "Contents",
   "toc_cell": true,
   "toc_position": {
    "height": "calc(100% - 180px)",
    "left": "10px",
    "top": "150px",
    "width": "218.2px"
   },
   "toc_section_display": true,
   "toc_window_display": true
  }
 },
 "nbformat": 4,
 "nbformat_minor": 4
}
